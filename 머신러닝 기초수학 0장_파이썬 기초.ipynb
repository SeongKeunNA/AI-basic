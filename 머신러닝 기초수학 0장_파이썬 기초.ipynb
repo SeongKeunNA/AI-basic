{
 "cells": [
  {
   "cell_type": "code",
   "execution_count": 1,
   "id": "81cb5c81",
   "metadata": {},
   "outputs": [
    {
     "ename": "ModuleNotFoundError",
     "evalue": "No module named 'matplotlib.pylot'",
     "output_type": "error",
     "traceback": [
      "\u001b[1;31m---------------------------------------------------------------------------\u001b[0m",
      "\u001b[1;31mModuleNotFoundError\u001b[0m                       Traceback (most recent call last)",
      "\u001b[1;32m<ipython-input-1-d4932d857065>\u001b[0m in \u001b[0;36m<module>\u001b[1;34m\u001b[0m\n\u001b[0;32m      2\u001b[0m \u001b[1;32mimport\u001b[0m \u001b[0mscipy\u001b[0m\u001b[1;33m\u001b[0m\u001b[1;33m\u001b[0m\u001b[0m\n\u001b[0;32m      3\u001b[0m \u001b[1;32mimport\u001b[0m \u001b[0msklearn\u001b[0m\u001b[1;33m\u001b[0m\u001b[1;33m\u001b[0m\u001b[0m\n\u001b[1;32m----> 4\u001b[1;33m \u001b[1;32mimport\u001b[0m \u001b[0mmatplotlib\u001b[0m\u001b[1;33m.\u001b[0m\u001b[0mpylot\u001b[0m \u001b[1;32mas\u001b[0m \u001b[0mplt\u001b[0m\u001b[1;33m\u001b[0m\u001b[1;33m\u001b[0m\u001b[0m\n\u001b[0m\u001b[0;32m      5\u001b[0m \u001b[1;32mimport\u001b[0m \u001b[0msympyt\u001b[0m\u001b[1;33m\u001b[0m\u001b[1;33m\u001b[0m\u001b[0m\n\u001b[0;32m      6\u001b[0m \u001b[1;32mimport\u001b[0m \u001b[0mpandas\u001b[0m\u001b[1;33m\u001b[0m\u001b[1;33m\u001b[0m\u001b[0m\n",
      "\u001b[1;31mModuleNotFoundError\u001b[0m: No module named 'matplotlib.pylot'"
     ]
    }
   ],
   "source": [
    "import numpy as np\n",
    "import scipy\n",
    "import sklearn\n",
    "import matplotlib.pylot as plt\n",
    "import sympyt\n",
    "import pandas\n",
    "import torch"
   ]
  },
  {
   "cell_type": "code",
   "execution_count": 2,
   "id": "99feea35",
   "metadata": {},
   "outputs": [],
   "source": [
    "import matplotlib.pyplot as plt"
   ]
  },
  {
   "cell_type": "code",
   "execution_count": 3,
   "id": "95948e39",
   "metadata": {},
   "outputs": [
    {
     "name": "stdout",
     "output_type": "stream",
     "text": [
      "(100, 98, 70) (98, 100, 80)\n"
     ]
    },
    {
     "data": {
      "text/plain": [
       "100"
      ]
     },
     "execution_count": 3,
     "metadata": {},
     "output_type": "execute_result"
    }
   ],
   "source": [
    "gauss=(100,98,70)\n",
    "newton=(98,100,80)\n",
    "print(gauss, newton)\n",
    "gauss[0]"
   ]
  },
  {
   "cell_type": "code",
   "execution_count": 4,
   "id": "dc795f04",
   "metadata": {},
   "outputs": [
    {
     "name": "stdout",
     "output_type": "stream",
     "text": [
      "[100, 98, 70] [98, 100, 80]\n"
     ]
    }
   ],
   "source": [
    "gauss=[100,98,70]\n",
    "newton=[98,100,80]\n",
    "print(gauss, newton)\n"
   ]
  },
  {
   "cell_type": "code",
   "execution_count": 6,
   "id": "cb71e874",
   "metadata": {},
   "outputs": [],
   "source": [
    "gauss.append(50)\n",
    "newton.append(80)"
   ]
  },
  {
   "cell_type": "code",
   "execution_count": 7,
   "id": "31dc3d30",
   "metadata": {},
   "outputs": [
    {
     "name": "stdout",
     "output_type": "stream",
     "text": [
      "[100, 98, 70, 50, 50]\n",
      "[98, 100, 80, 80, 80]\n"
     ]
    }
   ],
   "source": [
    "print(gauss)\n",
    "print(newton)"
   ]
  },
  {
   "cell_type": "code",
   "execution_count": 9,
   "id": "6650b3bf",
   "metadata": {},
   "outputs": [
    {
     "name": "stdout",
     "output_type": "stream",
     "text": [
      "{'math': 100, 'sci': 98, 'eng': 70} {'math': 98, 'sci': 100, 'eng': 80}\n"
     ]
    }
   ],
   "source": [
    "gauss={'math':100,'sci':98,'eng':70}\n",
    "newton={'math':98, 'sci':100, 'eng':80}\n",
    "print(gauss,newton)"
   ]
  },
  {
   "cell_type": "code",
   "execution_count": 10,
   "id": "e26e5304",
   "metadata": {},
   "outputs": [
    {
     "name": "stdout",
     "output_type": "stream",
     "text": [
      "80\n"
     ]
    }
   ],
   "source": [
    "print(newton['eng'])"
   ]
  },
  {
   "cell_type": "code",
   "execution_count": 12,
   "id": "e431099a",
   "metadata": {},
   "outputs": [],
   "source": [
    "newton['eng']=90\n",
    "gauss['music']=50\n",
    "newton['music']=40\n"
   ]
  },
  {
   "cell_type": "code",
   "execution_count": 13,
   "id": "cf875246",
   "metadata": {},
   "outputs": [
    {
     "name": "stdout",
     "output_type": "stream",
     "text": [
      "{'math': 100, 'sci': 98, 'eng': 70, 'music': 50}\n",
      "{'math': 98, 'sci': 100, 'eng': 90, 'music': 40}\n"
     ]
    }
   ],
   "source": [
    "print(gauss)\n",
    "print(newton)\n"
   ]
  },
  {
   "cell_type": "code",
   "execution_count": 14,
   "id": "687b0e09",
   "metadata": {},
   "outputs": [],
   "source": [
    "gauss=[[100,98,70],[100,99,80]]\n",
    "newton=[[98,100,80],[100,98,90]]\n"
   ]
  },
  {
   "cell_type": "code",
   "execution_count": 15,
   "id": "a53c4f04",
   "metadata": {},
   "outputs": [
    {
     "name": "stdout",
     "output_type": "stream",
     "text": [
      "100\n"
     ]
    }
   ],
   "source": [
    "print(gauss[1][0])"
   ]
  },
  {
   "cell_type": "code",
   "execution_count": 16,
   "id": "5b155073",
   "metadata": {},
   "outputs": [],
   "source": [
    "L=[1,2,3,4,5,6,7,8,9,10]"
   ]
  },
  {
   "cell_type": "code",
   "execution_count": 17,
   "id": "bb9decba",
   "metadata": {},
   "outputs": [
    {
     "data": {
      "text/plain": [
       "[2, 3, 4, 5, 6, 7, 8, 9, 10]"
      ]
     },
     "execution_count": 17,
     "metadata": {},
     "output_type": "execute_result"
    }
   ],
   "source": [
    "L[1:]"
   ]
  },
  {
   "cell_type": "code",
   "execution_count": 18,
   "id": "3266bff3",
   "metadata": {},
   "outputs": [
    {
     "data": {
      "text/plain": [
       "[2, 3]"
      ]
     },
     "execution_count": 18,
     "metadata": {},
     "output_type": "execute_result"
    }
   ],
   "source": [
    "L[1:3]"
   ]
  },
  {
   "cell_type": "code",
   "execution_count": 19,
   "id": "55b0e684",
   "metadata": {},
   "outputs": [
    {
     "data": {
      "text/plain": [
       "[1, 4, 7, 10]"
      ]
     },
     "execution_count": 19,
     "metadata": {},
     "output_type": "execute_result"
    }
   ],
   "source": [
    "L[::3]"
   ]
  },
  {
   "cell_type": "code",
   "execution_count": 20,
   "id": "811a0a73",
   "metadata": {},
   "outputs": [
    {
     "data": {
      "text/plain": [
       "[1, 2, 3, 4, 5, 6, 7, 8, 9, 10]"
      ]
     },
     "execution_count": 20,
     "metadata": {},
     "output_type": "execute_result"
    }
   ],
   "source": [
    "L[:]"
   ]
  },
  {
   "cell_type": "code",
   "execution_count": 21,
   "id": "981f9cc9",
   "metadata": {},
   "outputs": [
    {
     "data": {
      "text/plain": [
       "8"
      ]
     },
     "execution_count": 21,
     "metadata": {},
     "output_type": "execute_result"
    }
   ],
   "source": [
    "L[-3]"
   ]
  },
  {
   "cell_type": "code",
   "execution_count": 22,
   "id": "d88194b4",
   "metadata": {},
   "outputs": [
    {
     "name": "stdout",
     "output_type": "stream",
     "text": [
      "[1, 2, 3, 4, 5, 6, 7, 8, 9, 10]\n"
     ]
    }
   ],
   "source": [
    "print(L[::])"
   ]
  },
  {
   "cell_type": "code",
   "execution_count": 23,
   "id": "81478ee5",
   "metadata": {},
   "outputs": [
    {
     "name": "stdout",
     "output_type": "stream",
     "text": [
      "[10, 9, 8, 7, 6, 5, 4, 3, 2, 1]\n"
     ]
    }
   ],
   "source": [
    "print(L[::-1])"
   ]
  },
  {
   "cell_type": "code",
   "execution_count": 25,
   "id": "ce05747f",
   "metadata": {},
   "outputs": [
    {
     "name": "stdout",
     "output_type": "stream",
     "text": [
      "0 or negative\n"
     ]
    }
   ],
   "source": [
    "a=-3\n",
    "result=''\n",
    "if a>0:\n",
    "    result='positive'\n",
    "else:\n",
    "    result='0 or negative'\n",
    "print(result)"
   ]
  },
  {
   "cell_type": "code",
   "execution_count": 26,
   "id": "a9d24037",
   "metadata": {},
   "outputs": [
    {
     "name": "stdout",
     "output_type": "stream",
     "text": [
      "1\n",
      "2\n",
      "3\n",
      "4\n",
      "5\n",
      "6\n",
      "7\n",
      "8\n",
      "9\n"
     ]
    }
   ],
   "source": [
    "a=1\n",
    "while a>=1 and a<10:\n",
    "    print(a)\n",
    "    a=a+1"
   ]
  },
  {
   "cell_type": "code",
   "execution_count": 27,
   "id": "19343fac",
   "metadata": {},
   "outputs": [
    {
     "name": "stdout",
     "output_type": "stream",
     "text": [
      "1\n",
      "2\n",
      "3\n",
      "4\n",
      "5\n",
      "6\n",
      "7\n",
      "8\n",
      "9\n"
     ]
    }
   ],
   "source": [
    "for i in range(1,10):\n",
    "    print(i)"
   ]
  },
  {
   "cell_type": "code",
   "execution_count": 29,
   "id": "75853add",
   "metadata": {},
   "outputs": [],
   "source": [
    "i=1\n",
    "N=57\n",
    "d=[]\n",
    "while i<=N:\n",
    "    if N%i==0:\n",
    "        d.append(i)\n",
    "    i+=1"
   ]
  },
  {
   "cell_type": "code",
   "execution_count": 30,
   "id": "3f195c26",
   "metadata": {},
   "outputs": [
    {
     "name": "stdout",
     "output_type": "stream",
     "text": [
      "[1, 3, 19, 57]\n"
     ]
    }
   ],
   "source": [
    "print(d)"
   ]
  },
  {
   "cell_type": "code",
   "execution_count": 31,
   "id": "ca16d341",
   "metadata": {},
   "outputs": [],
   "source": [
    "L=[]\n",
    "for i in range(10):\n",
    "    L.append(i+1)"
   ]
  },
  {
   "cell_type": "code",
   "execution_count": 32,
   "id": "de289c36",
   "metadata": {},
   "outputs": [
    {
     "name": "stdout",
     "output_type": "stream",
     "text": [
      "[1, 2, 3, 4, 5, 6, 7, 8, 9, 10]\n"
     ]
    }
   ],
   "source": [
    "print(L)"
   ]
  },
  {
   "cell_type": "code",
   "execution_count": 33,
   "id": "3791769e",
   "metadata": {},
   "outputs": [
    {
     "name": "stdout",
     "output_type": "stream",
     "text": [
      "20\n",
      "[1, 2, 3, 4, 5, 6, 7, 8, 9, 10, 11, 12, 13, 14, 15, 16, 17, 18, 19, 20]\n"
     ]
    }
   ],
   "source": [
    "c=int(input())\n",
    "L=[]\n",
    "for i in range(c):\n",
    "    L.append(i+1)\n",
    "print(L)"
   ]
  },
  {
   "cell_type": "code",
   "execution_count": 34,
   "id": "95bea21c",
   "metadata": {},
   "outputs": [
    {
     "name": "stdout",
     "output_type": "stream",
     "text": [
      "20\n",
      "[1, 2, 3, 4, 5, 6, 7, 8, 9, 10, 11, 12, 13, 14, 15, 16, 17, 18, 19, 20]\n"
     ]
    }
   ],
   "source": [
    "c=int(input())\n",
    "L=[i+1 for i in range(c)]\n",
    "print(L)"
   ]
  },
  {
   "cell_type": "code",
   "execution_count": 35,
   "id": "f2eac2b9",
   "metadata": {},
   "outputs": [
    {
     "name": "stdout",
     "output_type": "stream",
     "text": [
      "20\n",
      "[1, 2, 3, 4, 5, 6, 7, 8, 9, 10, 11, 12, 13, 14, 15, 16, 17, 18, 19, 20]\n"
     ]
    }
   ],
   "source": [
    "c=int(input())\n",
    "L=[i+1 for i in range(c) if i<100]\n",
    "print(L)"
   ]
  },
  {
   "cell_type": "code",
   "execution_count": 36,
   "id": "af8d91ba",
   "metadata": {},
   "outputs": [],
   "source": [
    "def f(a):\n",
    "    a=a+1\n",
    "    return a"
   ]
  },
  {
   "cell_type": "code",
   "execution_count": 37,
   "id": "5d374a46",
   "metadata": {},
   "outputs": [
    {
     "name": "stdout",
     "output_type": "stream",
     "text": [
      "2\n"
     ]
    }
   ],
   "source": [
    "k=1\n",
    "print(f(k))"
   ]
  },
  {
   "cell_type": "code",
   "execution_count": 40,
   "id": "a965198f",
   "metadata": {},
   "outputs": [],
   "source": [
    "def divisor1(N):\n",
    "    i=1\n",
    "    d=[]\n",
    "    while i<=N:\n",
    "        if N%i==0:\n",
    "            d.append(i)\n",
    "        i+=1\n",
    "    return d"
   ]
  },
  {
   "cell_type": "code",
   "execution_count": 41,
   "id": "98297a2e",
   "metadata": {},
   "outputs": [
    {
     "data": {
      "text/plain": [
       "[1, 17]"
      ]
     },
     "execution_count": 41,
     "metadata": {},
     "output_type": "execute_result"
    }
   ],
   "source": [
    "divisor1(17)"
   ]
  },
  {
   "cell_type": "code",
   "execution_count": 42,
   "id": "ba8e933a",
   "metadata": {},
   "outputs": [
    {
     "data": {
      "text/plain": [
       "[1, 2, 3, 4, 5, 6, 10, 12, 15, 20, 30, 60]"
      ]
     },
     "execution_count": 42,
     "metadata": {},
     "output_type": "execute_result"
    }
   ],
   "source": [
    "divisor1(60\n",
    ")"
   ]
  },
  {
   "cell_type": "code",
   "execution_count": 43,
   "id": "807fc4b9",
   "metadata": {},
   "outputs": [
    {
     "data": {
      "text/plain": [
       "[1, 2, 5, 10, 61, 122, 305, 610]"
      ]
     },
     "execution_count": 43,
     "metadata": {},
     "output_type": "execute_result"
    }
   ],
   "source": [
    "divisor1(610)"
   ]
  },
  {
   "cell_type": "code",
   "execution_count": 46,
   "id": "e8e81bf8",
   "metadata": {},
   "outputs": [],
   "source": [
    "def divisor2(N):\n",
    "    d=[]\n",
    "    for i in range(1,N+1):\n",
    "        if N%i==0:\n",
    "            d.append(i)\n",
    "    return d   \n",
    "    "
   ]
  },
  {
   "cell_type": "code",
   "execution_count": 47,
   "id": "734c8e6b",
   "metadata": {},
   "outputs": [],
   "source": [
    "def divisor3(N):\n",
    "    return [i for i in range(1,N+1) if N%i==0]"
   ]
  },
  {
   "cell_type": "code",
   "execution_count": 48,
   "id": "abb53965",
   "metadata": {},
   "outputs": [
    {
     "data": {
      "text/plain": [
       "[1, 2, 5, 10, 61, 122, 305, 610]"
      ]
     },
     "execution_count": 48,
     "metadata": {},
     "output_type": "execute_result"
    }
   ],
   "source": [
    "divisor3(610)"
   ]
  },
  {
   "cell_type": "code",
   "execution_count": 49,
   "id": "f1a13e1e",
   "metadata": {},
   "outputs": [
    {
     "data": {
      "text/plain": [
       "11"
      ]
     },
     "execution_count": 49,
     "metadata": {},
     "output_type": "execute_result"
    }
   ],
   "source": [
    "f=lambda x:x+1\n",
    "f(10)"
   ]
  },
  {
   "cell_type": "code",
   "execution_count": 50,
   "id": "fb2912d3",
   "metadata": {},
   "outputs": [],
   "source": [
    "divisor4=lambda N:[i for i in range(1,N+1) if N%i==0]"
   ]
  },
  {
   "cell_type": "code",
   "execution_count": 51,
   "id": "516c0893",
   "metadata": {},
   "outputs": [
    {
     "data": {
      "text/plain": [
       "[1, 2, 3, 4, 5, 6, 10, 12, 15, 20, 30, 60]"
      ]
     },
     "execution_count": 51,
     "metadata": {},
     "output_type": "execute_result"
    }
   ],
   "source": [
    "divisor4(60)"
   ]
  },
  {
   "cell_type": "code",
   "execution_count": 52,
   "id": "42d650b3",
   "metadata": {},
   "outputs": [],
   "source": [
    "import random"
   ]
  },
  {
   "cell_type": "code",
   "execution_count": 53,
   "id": "723883c1",
   "metadata": {},
   "outputs": [
    {
     "data": {
      "text/plain": [
       "0.7602093744235207"
      ]
     },
     "execution_count": 53,
     "metadata": {},
     "output_type": "execute_result"
    }
   ],
   "source": [
    "random.random()"
   ]
  },
  {
   "cell_type": "code",
   "execution_count": 55,
   "id": "4a34632e",
   "metadata": {},
   "outputs": [
    {
     "data": {
      "text/plain": [
       "69"
      ]
     },
     "execution_count": 55,
     "metadata": {},
     "output_type": "execute_result"
    }
   ],
   "source": [
    "random.choice(range(1,101))"
   ]
  },
  {
   "cell_type": "code",
   "execution_count": 56,
   "id": "230bab07",
   "metadata": {},
   "outputs": [],
   "source": [
    "def get_item(c):\n",
    "    if c<=10:\n",
    "        return 1\n",
    "    else:\n",
    "        return 0"
   ]
  },
  {
   "cell_type": "code",
   "execution_count": 58,
   "id": "546f3edd",
   "metadata": {},
   "outputs": [
    {
     "data": {
      "text/plain": [
       "0"
      ]
     },
     "execution_count": 58,
     "metadata": {},
     "output_type": "execute_result"
    }
   ],
   "source": [
    "get_item(random.choice(range(1,101)))"
   ]
  },
  {
   "cell_type": "code",
   "execution_count": 63,
   "id": "f9b56e59",
   "metadata": {},
   "outputs": [
    {
     "name": "stdout",
     "output_type": "stream",
     "text": [
      "[0, 0, 1, 0, 0, 0, 0, 0, 0, 0]\n"
     ]
    }
   ],
   "source": [
    "a=[]\n",
    "for i in range(10):\n",
    "    a.append(get_item(random.choice(range(1,101))))\n",
    "print(a)"
   ]
  },
  {
   "cell_type": "code",
   "execution_count": 64,
   "id": "ab639c29",
   "metadata": {},
   "outputs": [
    {
     "name": "stdout",
     "output_type": "stream",
     "text": [
      "[0, 1, 0, 0, 1, 1, 0, 1, 0, 0]\n"
     ]
    }
   ],
   "source": [
    "a=[]\n",
    "for i in range(10):\n",
    "    a.append(get_item(random.choice(range(1,101))))\n",
    "print(a)"
   ]
  },
  {
   "cell_type": "code",
   "execution_count": null,
   "id": "1044e6f2",
   "metadata": {},
   "outputs": [],
   "source": [
    " "
   ]
  }
 ],
 "metadata": {
  "kernelspec": {
   "display_name": "Python 3 (ipykernel)",
   "language": "python",
   "name": "python3"
  },
  "language_info": {
   "codemirror_mode": {
    "name": "ipython",
    "version": 3
   },
   "file_extension": ".py",
   "mimetype": "text/x-python",
   "name": "python",
   "nbconvert_exporter": "python",
   "pygments_lexer": "ipython3",
   "version": "3.9.6"
  }
 },
 "nbformat": 4,
 "nbformat_minor": 5
}
