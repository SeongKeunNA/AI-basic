{
 "cells": [
  {
   "cell_type": "code",
   "execution_count": 6,
   "id": "13453a15",
   "metadata": {},
   "outputs": [],
   "source": [
    "import numpy as np\n",
    "\n",
    "D=np.load('data_1d.npz')"
   ]
  },
  {
   "cell_type": "code",
   "execution_count": 7,
   "id": "5d681f6e",
   "metadata": {},
   "outputs": [],
   "source": [
    "x=D['x']\n",
    "t=D['t']\n",
    "X_train=D['X_train']\n",
    "Y_train=D['Y_train']\n",
    "X_test=D['X_test']\n",
    "Y_test=D['Y_test']\n",
    "N=X_train.shape[0]\n"
   ]
  },
  {
   "cell_type": "code",
   "execution_count": 8,
   "id": "c9af75ab",
   "metadata": {},
   "outputs": [
    {
     "data": {
      "text/plain": [
       "array([[0.1       ],\n",
       "       [0.36666667],\n",
       "       [0.63333333],\n",
       "       [0.9       ],\n",
       "       [1.16666667],\n",
       "       [1.43333333],\n",
       "       [1.7       ],\n",
       "       [1.96666667],\n",
       "       [2.23333333],\n",
       "       [2.5       ]])"
      ]
     },
     "execution_count": 8,
     "metadata": {},
     "output_type": "execute_result"
    }
   ],
   "source": [
    "X_train.reshape(-1,1)"
   ]
  },
  {
   "cell_type": "code",
   "execution_count": 9,
   "id": "13ed99dc",
   "metadata": {},
   "outputs": [
    {
     "name": "stdout",
     "output_type": "stream",
     "text": [
      "(10, 2)\n"
     ]
    }
   ],
   "source": [
    "X=np.array([np.ones_like(X_train), X_train]).T\n",
    "print(X.shape)"
   ]
  },
  {
   "cell_type": "code",
   "execution_count": 10,
   "id": "888b43a5",
   "metadata": {},
   "outputs": [
    {
     "name": "stdout",
     "output_type": "stream",
     "text": [
      "[[1.         0.1       ]\n",
      " [1.         0.36666667]\n",
      " [1.         0.63333333]\n",
      " [1.         0.9       ]\n",
      " [1.         1.16666667]\n",
      " [1.         1.43333333]\n",
      " [1.         1.7       ]\n",
      " [1.         1.96666667]\n",
      " [1.         2.23333333]\n",
      " [1.         2.5       ]]\n"
     ]
    }
   ],
   "source": [
    "print(X)"
   ]
  },
  {
   "cell_type": "code",
   "execution_count": 11,
   "id": "92b64e7f",
   "metadata": {},
   "outputs": [
    {
     "name": "stdout",
     "output_type": "stream",
     "text": [
      "[[ 3.3       ]\n",
      " [ 2.76666667]\n",
      " [ 2.23333333]\n",
      " [ 1.7       ]\n",
      " [ 1.16666667]\n",
      " [ 0.63333333]\n",
      " [ 0.1       ]\n",
      " [-0.43333333]\n",
      " [-0.96666667]\n",
      " [-1.5       ]]\n"
     ]
    }
   ],
   "source": [
    "w1=3.5\n",
    "w2=-2.0\n",
    "w=np.array([w1,w2])\n",
    "print(np.dot(X,w.reshape(-1,1)))"
   ]
  },
  {
   "cell_type": "code",
   "execution_count": 12,
   "id": "aec3a608",
   "metadata": {},
   "outputs": [
    {
     "data": {
      "text/plain": [
       "6.171744429866503"
      ]
     },
     "execution_count": 12,
     "metadata": {},
     "output_type": "execute_result"
    }
   ],
   "source": [
    "Y_pred=np.dot(X, w.reshape(-1,1)).reshape(-1)\n",
    "0.5*(((Y_train-Y_pred)**2).sum())"
   ]
  },
  {
   "cell_type": "code",
   "execution_count": 13,
   "id": "87416400",
   "metadata": {},
   "outputs": [],
   "source": [
    "coef=(3.5,-5.0,3.0,-0.7)\n",
    "y=coef[0]+coef[1]*x+coef[2]*x**2+coef[3]*x**3\n",
    "Y_pred=coef[0]+coef[1]*X_train+coef[2]*X_train**2+coef[3]*X_train**3"
   ]
  },
  {
   "cell_type": "code",
   "execution_count": 14,
   "id": "5a71c6a7",
   "metadata": {},
   "outputs": [
    {
     "data": {
      "text/plain": [
       "4.965242925784168"
      ]
     },
     "execution_count": 14,
     "metadata": {},
     "output_type": "execute_result"
    }
   ],
   "source": [
    "0.5*(((Y_train-Y_pred)**2).sum())"
   ]
  },
  {
   "cell_type": "code",
   "execution_count": 15,
   "id": "c2e50847",
   "metadata": {},
   "outputs": [],
   "source": [
    "P=5\n",
    "\n",
    "#1차 다항식\n",
    "z_lin=np.polyfit(X_train, Y_train, 1)\n",
    "\n",
    "#P차 다항식\n",
    "z_nonlin=np.polyfit(X_train, Y_train, P)\n",
    "\n",
    "y_lin=np.poly1d(z_lin)\n",
    "y_nonlin=np.poly1d(z_nonlin)"
   ]
  },
  {
   "cell_type": "code",
   "execution_count": 16,
   "id": "23c530e2",
   "metadata": {},
   "outputs": [],
   "source": [
    "from sklearn.linear_model import LinearRegression\n",
    "from sklearn.preprocessing import PolynomialFeatures\n",
    "from sklearn.pipeline import make_pipeline\n",
    "\n",
    "#1차 다항식\n",
    "model=LinearRegression(fit_intercept=True)\n",
    "model.fit(X_train[:,np.newaxis], Y_train)\n",
    "y_sk_lin=model.predict(x[:,np.newaxis])\n",
    "\n",
    "#P차 다항식\n",
    "poly_model=make_pipeline(PolynomialFeatures(P), LinearRegression())\n",
    "poly_model.fit(X_train[:, np.newaxis], Y_train)\n",
    "y_sk_nonlin=poly_model.predict(x[:, np.newaxis])"
   ]
  },
  {
   "cell_type": "code",
   "execution_count": 17,
   "id": "0bf5db4c",
   "metadata": {},
   "outputs": [
    {
     "name": "stdout",
     "output_type": "stream",
     "text": [
      "numpy coef.  : [  0.79950086  27.05620838 -80.06851342  82.78449057 -35.64861967\n",
      "   5.43861169]\n",
      "sklearn coef.  : [  0.79950086  27.05620838 -80.06851342  82.78449057 -35.64861967\n",
      "   5.43861169]\n"
     ]
    }
   ],
   "source": [
    "poly_model.steps[-1][1].coef_[0]=poly_model.steps[-1][1].intercept_\n",
    "print(\"numpy coef.  : {}\".format(z_nonlin[::-1]))\n",
    "print(\"sklearn coef.  : {}\".format(poly_model.steps[-1][1].coef_))"
   ]
  },
  {
   "cell_type": "code",
   "execution_count": 18,
   "id": "4318e4b9",
   "metadata": {},
   "outputs": [
    {
     "name": "stdout",
     "output_type": "stream",
     "text": [
      "[[1.00000000e+00 1.00000000e+00 1.00000000e+00 1.00000000e+00\n",
      "  1.00000000e+00 1.00000000e+00 1.00000000e+00 1.00000000e+00\n",
      "  1.00000000e+00 1.00000000e+00]\n",
      " [1.00000000e-01 3.66666667e-01 6.33333333e-01 9.00000000e-01\n",
      "  1.16666667e+00 1.43333333e+00 1.70000000e+00 1.96666667e+00\n",
      "  2.23333333e+00 2.50000000e+00]\n",
      " [1.00000000e-02 1.34444444e-01 4.01111111e-01 8.10000000e-01\n",
      "  1.36111111e+00 2.05444444e+00 2.89000000e+00 3.86777778e+00\n",
      "  4.98777778e+00 6.25000000e+00]\n",
      " [1.00000000e-03 4.92962963e-02 2.54037037e-01 7.29000000e-01\n",
      "  1.58796296e+00 2.94470370e+00 4.91300000e+00 7.60662963e+00\n",
      "  1.11393704e+01 1.56250000e+01]\n",
      " [1.00000000e-04 1.80753086e-02 1.60890123e-01 6.56100000e-01\n",
      "  1.85262346e+00 4.22074198e+00 8.35210000e+00 1.49597049e+01\n",
      "  2.48779272e+01 3.90625000e+01]\n",
      " [1.00000000e-05 6.62761317e-03 1.01897078e-01 5.90490000e-01\n",
      "  2.16139403e+00 6.04973016e+00 1.41985700e+01 2.94207530e+01\n",
      "  5.55607040e+01 9.76562500e+01]]\n"
     ]
    }
   ],
   "source": [
    "P=5\n",
    "X=np.array([X_train**i for i in range(P+1)])\n",
    "print(X)\n"
   ]
  },
  {
   "cell_type": "code",
   "execution_count": 19,
   "id": "794ae17b",
   "metadata": {},
   "outputs": [
    {
     "name": "stdout",
     "output_type": "stream",
     "text": [
      "[0.31958491 0.29526199 0.09052272 0.87251386 0.39062459 0.11931789]\n"
     ]
    }
   ],
   "source": [
    "w=np.random.rand(P+1)\n",
    "print(w)"
   ]
  },
  {
   "cell_type": "code",
   "execution_count": 20,
   "id": "f6b20c6f",
   "metadata": {},
   "outputs": [
    {
     "name": "stdout",
     "output_type": "stream",
     "text": [
      "[ 0.35092911  0.49088108  0.83955046  1.62145153  3.15436166  5.86862911\n",
      " 10.32648063 17.24132923 27.49708183 42.16744698]\n"
     ]
    }
   ],
   "source": [
    "Y_pred=(w.reshape(-1,1)*X).sum(axis=0)\n",
    "print(Y_pred)"
   ]
  },
  {
   "cell_type": "code",
   "execution_count": 21,
   "id": "a67d3201",
   "metadata": {},
   "outputs": [],
   "source": [
    "def J(w, P, x, y):\n",
    "    X=np.array([x**i for i  in range(P+1)])\n",
    "    y_pred=(w.reshape(-1,1)*X).sum(axis=0)\n",
    "    \n",
    "    return 0.5*(( (y-y_pred)**2).sum())"
   ]
  },
  {
   "cell_type": "code",
   "execution_count": 22,
   "id": "65c3eb63",
   "metadata": {},
   "outputs": [
    {
     "data": {
      "text/plain": [
       "array([ 0.35092911,  0.49088108,  0.83955046,  1.62145153,  3.15436166,\n",
       "        5.86862911, 10.32648063, 17.24132923, 27.49708183, 42.16744698])"
      ]
     },
     "execution_count": 22,
     "metadata": {},
     "output_type": "execute_result"
    }
   ],
   "source": [
    "y__pred=np.dot(w,X)\n",
    "y__pred\n",
    "              "
   ]
  },
  {
   "cell_type": "code",
   "execution_count": 23,
   "id": "44547414",
   "metadata": {},
   "outputs": [
    {
     "data": {
      "text/plain": [
       "16.46202666494916"
      ]
     },
     "execution_count": 23,
     "metadata": {},
     "output_type": "execute_result"
    }
   ],
   "source": [
    "J(np.random.rand(4), 3, X_train, Y_train)\n"
   ]
  },
  {
   "cell_type": "code",
   "execution_count": 24,
   "id": "7476cae3",
   "metadata": {},
   "outputs": [
    {
     "data": {
      "text/plain": [
       "2661.6065287909055"
      ]
     },
     "execution_count": 24,
     "metadata": {},
     "output_type": "execute_result"
    }
   ],
   "source": [
    "J(np.random.rand(6),5,X_train,Y_train)"
   ]
  },
  {
   "cell_type": "code",
   "execution_count": 25,
   "id": "d27e729b",
   "metadata": {},
   "outputs": [],
   "source": [
    "def grad_anal(w,P,x,y):\n",
    "    N=x.shape[0]\n",
    "    PI=np.hstack(np.array([np.power(x.reshape(N,1),p)for p in range(P+1)]))\n",
    "    g=np.dot(np.dot(w.T,PI.T)-y.T,PI)\n",
    "    \n",
    "    return g"
   ]
  },
  {
   "cell_type": "code",
   "execution_count": 26,
   "id": "39f9aa47",
   "metadata": {},
   "outputs": [
    {
     "data": {
      "text/plain": [
       "(10,)"
      ]
     },
     "execution_count": 26,
     "metadata": {},
     "output_type": "execute_result"
    }
   ],
   "source": [
    "Y_train.shape"
   ]
  },
  {
   "cell_type": "code",
   "execution_count": 27,
   "id": "ba6e0819",
   "metadata": {},
   "outputs": [
    {
     "data": {
      "text/plain": [
       "array([ 2.59432183,  4.1193642 ,  1.05620327,  0.03328507,  1.14306958,\n",
       "        1.72283378,  1.26575323,  0.10017529,  0.0357391 , -0.08008968])"
      ]
     },
     "execution_count": 27,
     "metadata": {},
     "output_type": "execute_result"
    }
   ],
   "source": [
    "Y_train.T"
   ]
  },
  {
   "cell_type": "raw",
   "id": "e8720c73",
   "metadata": {},
   "source": [
    "from scipy import optimize\n",
    "\n",
    "np.random.seed(0)\n",
    "Ps=[1,3,6,12]\n",
    "W=[]\n",
    "\n",
    "for P in Ps:\n",
    "    w=np.random.uniform(-1,1,P+1)\n",
    "    ret=optimize.minimum(J,w,args=(P,X_train,Y_train),jac=grad_anal, method='SLSQP')\n",
    "    \n",
    "    W.append(ret.x)\n",
    "    print(ret)\n",
    "    print('\\n')\n"
   ]
  },
  {
   "cell_type": "code",
   "execution_count": 28,
   "id": "7fafd3d9",
   "metadata": {},
   "outputs": [
    {
     "name": "stdout",
     "output_type": "stream",
     "text": [
      "     fun: 3.885207834041835\n",
      "     jac: array([ 3.33066907e-16, -1.33226763e-15])\n",
      " message: 'Optimization terminated successfully'\n",
      "    nfev: 6\n",
      "     nit: 3\n",
      "    njev: 3\n",
      "  status: 0\n",
      " success: True\n",
      "       x: array([ 2.76964433, -1.20813751])\n",
      "\n",
      "\n",
      "     fun: 3.4455063925535785\n",
      "     jac: array([ 1.0348036e-04, -1.3520411e-04, -8.0562390e-05,  5.3705377e-05])\n",
      " message: 'Optimization terminated successfully'\n",
      "    nfev: 16\n",
      "     nit: 12\n",
      "    njev: 12\n",
      "  status: 0\n",
      " success: True\n",
      "       x: array([ 3.75145825, -4.92092809,  3.03843353, -0.68510059])\n",
      "\n",
      "\n",
      "     fun: 0.009816210285873976\n",
      "     jac: array([ 2.56355243e-06, -4.11940396e-08, -1.43290287e-05, -7.67394609e-06,\n",
      "        4.63610050e-06,  6.78471285e-06, -2.63176439e-06])\n",
      " message: 'Optimization terminated successfully'\n",
      "    nfev: 45\n",
      "     nit: 36\n",
      "    njev: 36\n",
      "  status: 0\n",
      " success: True\n",
      "       x: array([  -2.79478449,   76.32666657, -256.82375861,  345.83169131,\n",
      "       -222.44414902,   68.30421686,   -8.05962818])\n",
      "\n",
      "\n",
      "     fun: 0.0022345830854938542\n",
      "     jac: array([-2.70934941e-05,  6.37700294e-05,  4.55061776e-05,  6.30940318e-06,\n",
      "        7.14302305e-05,  1.76767074e-04,  3.04281155e-04,  5.42968225e-04,\n",
      "        1.02104381e-03,  1.76699836e-03,  2.56174584e-03,  2.63033111e-03,\n",
      "       -1.63490136e-03])\n",
      " message: 'Optimization terminated successfully'\n",
      "    nfev: 61\n",
      "     nit: 36\n",
      "    njev: 36\n",
      "  status: 0\n",
      " success: True\n",
      "       x: array([ -0.58675037,  40.31568294, -86.22296146,   8.58400544,\n",
      "        58.06918219,  20.16460138, -33.71199913, -34.53438004,\n",
      "        16.86438938,  35.35900857, -33.5995575 ,  10.88476974,\n",
      "        -1.24695269])\n",
      "\n",
      "\n"
     ]
    }
   ],
   "source": [
    "from scipy import optimize\n",
    "\n",
    "np.random.seed(0)\n",
    "Ps=[1,3,6,12]\n",
    "W=[]\n",
    "\n",
    "for P in Ps:\n",
    "    w=np.random.uniform(-1,1,P+1)\n",
    "    ret=optimize.minimize(J,w,args=(P,X_train,Y_train),jac=grad_anal, method='SLSQP')\n",
    "    \n",
    "    W.append(ret.x)\n",
    "    print(ret)\n",
    "    print('\\n')\n"
   ]
  },
  {
   "cell_type": "code",
   "execution_count": 31,
   "id": "6dfffa70",
   "metadata": {},
   "outputs": [],
   "source": [
    "def rmse(w, J, P, x, y):\n",
    "    return np.sqrt( (2*J(w, P, x, y))/ x.shape[0] )"
   ]
  },
  {
   "cell_type": "code",
   "execution_count": 33,
   "id": "df13bd26",
   "metadata": {},
   "outputs": [
    {
     "name": "stdout",
     "output_type": "stream",
     "text": [
      "     fun: 8.166690145008648\n",
      "     jac: array([8.8817842e-16])\n",
      " message: 'Optimization terminated successfully'\n",
      "    nfev: 3\n",
      "     nit: 2\n",
      "    njev: 2\n",
      "  status: 0\n",
      " success: True\n",
      "       x: array([1.19906557])\n",
      "\n",
      "\n",
      "     fun: 3.8852078340418355\n",
      "     jac: array([-3.66373598e-15, -3.55271368e-15])\n",
      " message: 'Optimization terminated successfully'\n",
      "    nfev: 6\n",
      "     nit: 3\n",
      "    njev: 3\n",
      "  status: 0\n",
      " success: True\n",
      "       x: array([ 2.76964433, -1.20813751])\n",
      "\n",
      "\n",
      "     fun: 3.7059894243307916\n",
      "     jac: array([1.31006317e-14, 1.65978342e-14, 2.74225087e-14])\n",
      " message: 'Optimization terminated successfully'\n",
      "    nfev: 8\n",
      "     nit: 5\n",
      "    njev: 5\n",
      "  status: 0\n",
      " success: True\n",
      "       x: array([ 3.17390233, -2.16076965,  0.36639698])\n",
      "\n",
      "\n",
      "     fun: 3.445506329361493\n",
      "     jac: array([-1.12227207e-05,  5.71602640e-05,  5.81142229e-05, -3.68049692e-05])\n",
      " message: 'Optimization terminated successfully'\n",
      "    nfev: 13\n",
      "     nit: 9\n",
      "    njev: 9\n",
      "  status: 0\n",
      " success: True\n",
      "       x: array([ 3.75098721, -4.91952353,  3.03740735, -0.68488434])\n",
      "\n",
      "\n",
      "     fun: 3.4268467893357974\n",
      "     jac: array([ 7.58984378e-05,  7.29318027e-05,  1.17414072e-04,  9.40036090e-05,\n",
      "       -7.07242532e-05])\n",
      " message: 'Optimization terminated successfully'\n",
      "    nfev: 25\n",
      "     nit: 19\n",
      "    njev: 19\n",
      "  status: 0\n",
      " success: True\n",
      "       x: array([ 3.5619128 , -3.43419962,  0.45659075,  0.86098964, -0.29730256])\n",
      "\n",
      "\n",
      "     fun: 1.329220896842408\n",
      "     jac: array([ 6.65242824e-05, -7.40233223e-05, -5.21526810e-05,  6.06890796e-06,\n",
      "        5.14151815e-05, -3.55879396e-05])\n",
      " message: 'Optimization terminated successfully'\n",
      "    nfev: 34\n",
      "     nit: 26\n",
      "    njev: 26\n",
      "  status: 0\n",
      " success: True\n",
      "       x: array([  0.7995488 ,  27.05747251, -80.07305085,  82.78939708,\n",
      "       -35.65073221,   5.43892916])\n",
      "\n",
      "\n",
      "     fun: 0.009816183305113493\n",
      "     jac: array([ 5.98163239e-06, -2.06208162e-05, -6.75417568e-05, -3.47594589e-05,\n",
      "        1.89638303e-05,  4.09959878e-05, -1.54461703e-05])\n",
      " message: 'Optimization terminated successfully'\n",
      "    nfev: 45\n",
      "     nit: 35\n",
      "    njev: 35\n",
      "  status: 0\n",
      " success: True\n",
      "       x: array([  -2.79430595,   76.32156677, -256.80955626,  345.81489636,\n",
      "       -222.43445489,   68.30151355,   -8.05933639])\n",
      "\n",
      "\n",
      "     fun: 0.1127237408268145\n",
      "     jac: array([ 1.86544746e-06, -3.01152494e-05,  1.36651374e-04, -2.70878683e-04,\n",
      "        2.74221311e-04, -1.48103404e-04,  4.06023628e-05, -4.43986435e-06])\n",
      " message: 'Optimization terminated successfully'\n",
      "    nfev: 29\n",
      "     nit: 18\n",
      "    njev: 18\n",
      "  status: 0\n",
      " success: True\n",
      "       x: array([  -0.58407611,   42.36812667, -108.14366057,   58.07054433,\n",
      "         64.1133578 ,  -84.65340105,   33.51156534,   -4.51529026])\n",
      "\n",
      "\n",
      "     fun: 0.012253231227853607\n",
      "     jac: array([ 2.16777557e-06, -1.35624333e-05,  9.32110854e-06,  7.38556021e-06,\n",
      "        1.44971711e-05, -1.50497952e-05, -9.79328450e-06,  1.06628174e-05,\n",
      "       -2.20777601e-06])\n",
      " message: 'Optimization terminated successfully'\n",
      "    nfev: 47\n",
      "     nit: 33\n",
      "    njev: 33\n",
      "  status: 0\n",
      " success: True\n",
      "       x: array([  -1.8670436 ,   60.61973704, -174.76976498,  146.04969096,\n",
      "         41.36485798, -131.99446322,   79.25667727,  -20.29271312,\n",
      "          1.94688297])\n",
      "\n",
      "\n",
      "     fun: 0.03971805818128281\n",
      "     jac: array([ 1.34358514e-05,  2.06171012e-05,  1.14431850e-04,  7.66210673e-06,\n",
      "        2.54440192e-04,  4.20333312e-04,  4.87393592e-04,  8.95267496e-04,\n",
      "        8.15801032e-04, -5.28669444e-04])\n",
      " message: 'Optimization terminated successfully'\n",
      "    nfev: 49\n",
      "     nit: 34\n",
      "    njev: 34\n",
      "  status: 0\n",
      " success: True\n",
      "       x: array([  -0.79731221,   44.21457488, -106.31474847,   39.69894185,\n",
      "         69.41790452,  -26.36991707,  -58.123282  ,   53.80236989,\n",
      "        -17.25525065,    1.96063303])\n",
      "\n",
      "\n",
      "     fun: 0.004906570296357265\n",
      "     jac: array([-1.10625988e-04,  1.38307641e-05,  2.82957077e-05,  4.63672859e-05,\n",
      "        2.70773175e-05, -1.20113079e-05, -1.05385535e-04, -3.07938488e-04,\n",
      "       -6.77189250e-04, -1.53271271e-03, -3.89981245e-03])\n",
      " message: 'Optimization terminated successfully'\n",
      "    nfev: 65\n",
      "     nit: 48\n",
      "    njev: 48\n",
      "  status: 0\n",
      " success: True\n",
      "       x: array([  -1.89732724,   60.476223  , -168.27212189,  118.97140441,\n",
      "         68.96987023,  -91.93426129,  -39.01821967,   94.79654782,\n",
      "        -54.18021818,   13.81676882,   -1.36738585])\n",
      "\n",
      "\n",
      "     fun: 0.0006111061354558314\n",
      "     jac: array([ 1.11249895e-04,  6.73236036e-05,  5.93441165e-05,  7.36762738e-05,\n",
      "        6.19837086e-05,  4.18182887e-05,  1.66119305e-05, -2.38096952e-05,\n",
      "       -5.90726411e-05, -2.71090057e-05,  5.14755081e-05, -1.17985480e-05])\n",
      " message: 'Optimization terminated successfully'\n",
      "    nfev: 60\n",
      "     nit: 40\n",
      "    njev: 40\n",
      "  status: 0\n",
      " success: True\n",
      "       x: array([  -1.22534541,   49.82320894, -121.77340829,   46.51976273,\n",
      "         78.39151472,  -17.87052369,  -64.58524867,    4.17989744,\n",
      "         60.06109036,  -44.82564358,   13.07093148,   -1.40481215])\n",
      "\n",
      "\n",
      "     fun: 0.002250107161937393\n",
      "     jac: array([-2.36347233e-06,  1.48813888e-07,  2.10946197e-05, -2.75890008e-05,\n",
      "       -4.71272088e-06,  2.13664558e-05,  2.21433850e-06, -2.86122439e-05,\n",
      "       -1.87557920e-05,  3.50823249e-06, -4.73372096e-05, -2.85642318e-05,\n",
      "        1.70067821e-05])\n",
      " message: 'Optimization terminated successfully'\n",
      "    nfev: 61\n",
      "     nit: 38\n",
      "    njev: 38\n",
      "  status: 0\n",
      " success: True\n",
      "       x: array([ -0.58794855,  40.34133154, -86.41461812,   9.23299527,\n",
      "        57.0152345 ,  20.82520363, -33.43340869, -35.15787622,\n",
      "        17.10216384,  35.45551804, -33.70664529,  10.9174776 ,\n",
      "        -1.25046463])\n",
      "\n",
      "\n"
     ]
    }
   ],
   "source": [
    "np.random.seed(0)\n",
    "\n",
    "P_overfit=12\n",
    "Ps=np.arange(P_overfit+1)\n",
    "W=[]\n",
    "\n",
    "for P in Ps:\n",
    "    w=np.random.uniform(-1,1,P+1)\n",
    "    \n",
    "    ret=optimize.minimize(J, w, args=(P, X_train, Y_train), jac=grad_anal, method=\"SLSQP\")\n",
    "    \n",
    "    print(ret)\n",
    "    W.append(ret.x)\n",
    "    print('\\n')\n",
    "    \n",
    "RMSE=np.zeros((len(Ps), 3))\n",
    "\n",
    "for i in Ps:\n",
    "    RMSE[i,0]=i\n",
    "    RMSE[i,1]=rmse(W[i], J, W[i].shape[0]-1, X_train, Y_train)\n",
    "    RMSE[i,2]=rmse(W[i], J, W[i].shape[0]-1, X_test, Y_test)"
   ]
  },
  {
   "cell_type": "code",
   "execution_count": 34,
   "id": "c369f8de",
   "metadata": {},
   "outputs": [
    {
     "name": "stdout",
     "output_type": "stream",
     "text": [
      "     fun: 5.913373354848598\n",
      "     jac: array([ 7.30309116e-07,  4.37125439e-05, -2.52386345e-04,  5.01468474e-04,\n",
      "       -3.85360772e-04, -1.04589516e-04,  3.29729962e-04, -3.36329380e-05,\n",
      "       -2.83877056e-04,  2.18672488e-04, -1.52649884e-04, -1.24673712e-04,\n",
      "       -3.43253936e-04])\n",
      " message: 'Optimization terminated successfully'\n",
      "    nfev: 68\n",
      "     nit: 40\n",
      "    njev: 40\n",
      "  status: 0\n",
      " success: True\n",
      "       x: array([  -1.94903929,   53.61634474, -140.67644428,   83.0757419 ,\n",
      "         73.00415323,  -56.81958571,  -61.81452874,   46.72431719,\n",
      "         49.49220033,  -74.16318424,   37.7377927 ,   -8.95590169,\n",
      "          0.83450306])\n"
     ]
    }
   ],
   "source": [
    "np.random.seed(0)\n",
    "\n",
    "P=12\n",
    "w=np.random.uniform(-1,1,P+1)\n",
    "\n",
    "ret=optimize.minimize(J,w,args=(P,X_test,Y_test), jac=grad_anal, method='SLSQP')\n",
    "\n",
    "print(ret)\n",
    "w=ret.x\n",
    "X=np.array([x**i for i in range(P+1) ])\n",
    "y=(w.reshape(-1,1)*X).sum(axis=0)"
   ]
  },
  {
   "cell_type": "code",
   "execution_count": 35,
   "id": "2b524625",
   "metadata": {},
   "outputs": [
    {
     "data": {
      "text/plain": [
       "array([ 3.5619128 , -3.43419962,  0.45659075,  0.86098964, -0.29730256])"
      ]
     },
     "execution_count": 35,
     "metadata": {},
     "output_type": "execute_result"
    }
   ],
   "source": [
    "W[4]"
   ]
  },
  {
   "cell_type": "code",
   "execution_count": 36,
   "id": "2d807827",
   "metadata": {},
   "outputs": [
    {
     "data": {
      "text/plain": [
       "array([ -0.58794855,  40.34133154, -86.41461812,   9.23299527,\n",
       "        57.0152345 ,  20.82520363, -33.43340869, -35.15787622,\n",
       "        17.10216384,  35.45551804, -33.70664529,  10.9174776 ,\n",
       "        -1.25046463])"
      ]
     },
     "execution_count": 36,
     "metadata": {},
     "output_type": "execute_result"
    }
   ],
   "source": [
    "W[-1]"
   ]
  },
  {
   "cell_type": "code",
   "execution_count": 38,
   "id": "e23e6964",
   "metadata": {},
   "outputs": [],
   "source": [
    "def J_L2(w,P,x,y):\n",
    "    X=np.array([x**i for i in range(P+1)])\n",
    "    y_pred=(w.reshape(-1,1)*X).sum(axis=0)\n",
    "    return 0.5*(((y-y_pred)**2 ).sum())+(lamda/2.)*np.linalg.norm(w)**2"
   ]
  },
  {
   "cell_type": "code",
   "execution_count": 39,
   "id": "601226bc",
   "metadata": {},
   "outputs": [],
   "source": [
    "def grad_anal_L2(w,P,x,y):\n",
    "    N=x.shape[0]\n",
    "    PI=np.hstack(np.array( [np.power(x.reshape(N,1), p) for p in range(P+1)]))\n",
    "    \n",
    "    g=np.dot( np.dot(w.T,PI.T)-y.T,PI)\n",
    "    g_reg=lamda*w\n",
    "    g=g+g_reg\n",
    "    \n",
    "    return g"
   ]
  },
  {
   "cell_type": "code",
   "execution_count": 41,
   "id": "26f8aa78",
   "metadata": {},
   "outputs": [
    {
     "name": "stdout",
     "output_type": "stream",
     "text": [
      "     fun: 0.3474965913639484\n",
      "     jac: array([-5.54550255e-06,  5.83632267e-06,  3.37514347e-06, -1.58866684e-05,\n",
      "       -1.39393658e-05, -1.78439986e-06, -5.55750137e-05, -7.90645011e-05,\n",
      "       -1.24741701e-04, -2.37154685e-04, -3.35853234e-04, -3.49514195e-04,\n",
      "        2.15170655e-04])\n",
      " message: 'Optimization terminated successfully'\n",
      "    nfev: 60\n",
      "     nit: 37\n",
      "    njev: 37\n",
      "  status: 0\n",
      " success: True\n",
      "       x: array([  0.59376117,  26.33770005, -52.35290644,  -0.70344546,\n",
      "        31.03415426,  16.04661247, -13.26411207, -18.6245748 ,\n",
      "         3.98714083,  16.17924345, -12.04522811,   3.29231034,\n",
      "        -0.32425586])\n"
     ]
    }
   ],
   "source": [
    "np.random.seed(0)\n",
    "\n",
    "P=12\n",
    "lamda=0.00007\n",
    "w=np.random.uniform(-1,1,P+1)\n",
    "\n",
    "ret=optimize.minimize(J_L2, w, args=(P,X_train,Y_train), jac=grad_anal_L2, method=\"SLSQP\")\n",
    "print(ret)\n",
    "w=ret.x\n",
    "X=np.array([ x**i for i in range(P+1)])\n",
    "y=(w.reshape(-1,1)*X).sum(axis=0)"
   ]
  },
  {
   "cell_type": "code",
   "execution_count": 44,
   "id": "b7bd9881",
   "metadata": {},
   "outputs": [],
   "source": [
    "np.random.seed(0)\n",
    "\n",
    "epoch=15\n",
    "batch_size=10\n",
    "P=1\n",
    "eta=0.05\n",
    "w=np.random.uniform(-1,1,P+1)\n",
    "\n",
    "X_test_idx=np.arange(100)\n",
    "\n",
    "for e in range(epoch):\n",
    "    np.random.shuffle(X_test_idx)\n",
    "    \n",
    "    for i in range(X_test.shape[0]//batch_size):\n",
    "        X_batch=X_test[X_test_idx[i*batch_size:i*batch_size+batch_size]]\n",
    "        Y_batch=Y_test[X_test_idx[i*batch_size:i*batch_size+batch_size]]\n",
    "        \n",
    "        c=grad_anal(w,P,X_batch,Y_batch)\n",
    "        \n",
    "        w=w-eta*c"
   ]
  },
  {
   "cell_type": "code",
   "execution_count": 46,
   "id": "d6efda89",
   "metadata": {},
   "outputs": [
    {
     "data": {
      "text/plain": [
       "(10, 7)"
      ]
     },
     "execution_count": 46,
     "metadata": {},
     "output_type": "execute_result"
    }
   ],
   "source": [
    "P=6\n",
    "\n",
    "#DESIGN MATRIX\n",
    "#다항함수를 기반으로 하는 design matix를 만든다.\n",
    "PI=np.hstack(np.array([np.power(X_train.reshape(-1,1), p) for p in range(P+1)]))\n",
    "PI.shape"
   ]
  },
  {
   "cell_type": "code",
   "execution_count": 50,
   "id": "7bb1a3c4",
   "metadata": {},
   "outputs": [
    {
     "name": "stdout",
     "output_type": "stream",
     "text": [
      "(7, 1)\n"
     ]
    }
   ],
   "source": [
    "w_normal=np.linalg.solve(np.dot(PI.T,PI), np.dot(PI.T, Y_train.reshape(N,1)) )\n",
    "\n",
    "print(w_normal.shape)"
   ]
  },
  {
   "cell_type": "code",
   "execution_count": 52,
   "id": "fb42d0d3",
   "metadata": {},
   "outputs": [
    {
     "name": "stdout",
     "output_type": "stream",
     "text": [
      "(7,)\n"
     ]
    }
   ],
   "source": [
    "w_normal=w_normal.reshape(-1)\n",
    "print(w_normal.shape)"
   ]
  },
  {
   "cell_type": "markdown",
   "id": "966751fc",
   "metadata": {},
   "source": []
  },
  {
   "cell_type": "raw",
   "id": "9997e301",
   "metadata": {},
   "source": [
    "y_normal=np.poly1d(w_normal[::-1])\n",
    "print(y_normal)"
   ]
  },
  {
   "cell_type": "code",
   "execution_count": 53,
   "id": "674b14a7",
   "metadata": {},
   "outputs": [
    {
     "data": {
      "text/plain": [
       "poly1d([  -8.05936991,   68.30169701, -222.43469334,  345.81464582,\n",
       "       -256.80883935,   76.32115228,   -2.79425626])"
      ]
     },
     "execution_count": 53,
     "metadata": {},
     "output_type": "execute_result"
    }
   ],
   "source": [
    "y_normal=np.poly1d(w_normal[::-1])\n",
    "y_normal"
   ]
  },
  {
   "cell_type": "code",
   "execution_count": 54,
   "id": "80ef2269",
   "metadata": {},
   "outputs": [],
   "source": [
    "w_normal=np.dot(np.linalg.inv(np.dot(PI.T,PI)), np.dot(PI.T, Y_train.reshape(N,1)))"
   ]
  },
  {
   "cell_type": "code",
   "execution_count": 55,
   "id": "3c88d685",
   "metadata": {},
   "outputs": [
    {
     "data": {
      "text/plain": [
       "array([[  -2.79425626],\n",
       "       [  76.32115228],\n",
       "       [-256.80883935],\n",
       "       [ 345.81464582],\n",
       "       [-222.43469334],\n",
       "       [  68.30169701],\n",
       "       [  -8.05936991]])"
      ]
     },
     "execution_count": 55,
     "metadata": {},
     "output_type": "execute_result"
    }
   ],
   "source": [
    "w_normal"
   ]
  },
  {
   "cell_type": "code",
   "execution_count": 56,
   "id": "3be4ac17",
   "metadata": {},
   "outputs": [],
   "source": [
    "def grad_anal(w,P,x,y):\n",
    "    N=x.shape[0]\n",
    "    PI=np.hstack(np.array( [np.power(x.reshape(N,1), p) for p in range(P+1)]))\n",
    "    g=np.dot(np.dot(w.T,PI.T)-y.T, PI)\n",
    "    \n",
    "    return g"
   ]
  },
  {
   "cell_type": "code",
   "execution_count": 57,
   "id": "34a68b00",
   "metadata": {},
   "outputs": [],
   "source": [
    "P=12\n",
    "lamda=0.00007\n",
    "\n",
    "PI=np.hstack( np.array([np.power(X_train.reshape(-1,1),p)for p in range(P+1)]))\n",
    "w_normal_reg=np.linalg.solve(np.dot(PI.T, PI)+lamda*np.eye(PI.shape[1]), np.dot(PI.T, Y_train.reshape(N,1))).reshape(-1)\n",
    "y_normal_reg=np.poly1d(w_normal_reg[::-1])"
   ]
  },
  {
   "cell_type": "code",
   "execution_count": 59,
   "id": "e03692ee",
   "metadata": {},
   "outputs": [],
   "source": [
    "blood_pressure=np.array([[132, 52, 173],\n",
    "                        [143, 59, 184],\n",
    "                        [153, 67, 194],\n",
    "                        [162, 73, 211],\n",
    "                        [154, 64, 196],\n",
    "                        [168, 74, 220],\n",
    "                        [137, 54, 188],\n",
    "                        [149, 61, 188],\n",
    "                        [149, 61, 188],\n",
    "                        [159, 65, 207],\n",
    "                        [128, 46, 167],\n",
    "                        [166, 72, 217]])"
   ]
  },
  {
   "cell_type": "code",
   "execution_count": 62,
   "id": "a63134ce",
   "metadata": {},
   "outputs": [],
   "source": [
    "x_train=blood_pressure[:,1:]\n",
    "Y_train=blood_pressure[:,0]\n",
    "\n",
    "#DESIGN MATRIX\n",
    "PI=np.hstack((np.ones(blood_pressure.shape[0]).reshape(-1,1), blood_pressure[:,1:]))\n",
    "w=np.linalg.solve(PI.T@PI, PI.T@Y_train)\n",
    "\n",
    "x1=np.linspace(45,75,50)\n",
    "x2=np.linspace(160,230,50)\n",
    "xx1,xx2=np.meshgrid(x1, x2)\n",
    "\n",
    "#회귀 평면\n",
    "P=w[0]+xx1*w[1]+xx2*w[2]"
   ]
  },
  {
   "cell_type": "code",
   "execution_count": 63,
   "id": "88cc59a1",
   "metadata": {},
   "outputs": [
    {
     "data": {
      "text/plain": [
       "array([[123.70869753, 124.26704786, 124.82539819, ..., 149.95116306,\n",
       "        150.50951339, 151.06786372],\n",
       "       [124.1438598 , 124.70221013, 125.26056046, ..., 150.38632533,\n",
       "        150.94467566, 151.50302599],\n",
       "       [124.57902206, 125.13737239, 125.69572272, ..., 150.82148759,\n",
       "        151.37983792, 151.93818825],\n",
       "       ...,\n",
       "       [144.16132397, 144.7196743 , 145.27802463, ..., 170.4037895 ,\n",
       "        170.96213983, 171.52049016],\n",
       "       [144.59648623, 145.15483656, 145.71318689, ..., 170.83895176,\n",
       "        171.39730209, 171.95565242],\n",
       "       [145.0316485 , 145.58999883, 146.14834916, ..., 171.27411403,\n",
       "        171.83246436, 172.39081469]])"
      ]
     },
     "execution_count": 63,
     "metadata": {},
     "output_type": "execute_result"
    }
   ],
   "source": [
    "P"
   ]
  },
  {
   "cell_type": "code",
   "execution_count": 64,
   "id": "29a5e58c",
   "metadata": {},
   "outputs": [
    {
     "ename": "NameError",
     "evalue": "name 'net' is not defined",
     "output_type": "error",
     "traceback": [
      "\u001b[1;31m---------------------------------------------------------------------------\u001b[0m",
      "\u001b[1;31mNameError\u001b[0m                                 Traceback (most recent call last)",
      "\u001b[1;32mC:\\Users\\NAJONG~1\\AppData\\Local\\Temp/ipykernel_9000/4052439165.py\u001b[0m in \u001b[0;36m<module>\u001b[1;34m\u001b[0m\n\u001b[0;32m      2\u001b[0m \u001b[1;33m\u001b[0m\u001b[0m\n\u001b[0;32m      3\u001b[0m \u001b[1;31m#create your optimizer\u001b[0m\u001b[1;33m\u001b[0m\u001b[1;33m\u001b[0m\u001b[1;33m\u001b[0m\u001b[0m\n\u001b[1;32m----> 4\u001b[1;33m \u001b[0moptimizer\u001b[0m\u001b[1;33m=\u001b[0m\u001b[0moptim\u001b[0m\u001b[1;33m.\u001b[0m\u001b[0mSGD\u001b[0m\u001b[1;33m(\u001b[0m\u001b[0mnet\u001b[0m\u001b[1;33m.\u001b[0m\u001b[0mparameters\u001b[0m\u001b[1;33m(\u001b[0m\u001b[1;33m)\u001b[0m\u001b[1;33m,\u001b[0m \u001b[0mlr\u001b[0m\u001b[1;33m=\u001b[0m\u001b[1;36m0.01\u001b[0m\u001b[1;33m)\u001b[0m\u001b[1;33m\u001b[0m\u001b[1;33m\u001b[0m\u001b[0m\n\u001b[0m\u001b[0;32m      5\u001b[0m \u001b[1;33m\u001b[0m\u001b[0m\n\u001b[0;32m      6\u001b[0m \u001b[1;31m#in your training loop:\u001b[0m\u001b[1;33m\u001b[0m\u001b[1;33m\u001b[0m\u001b[1;33m\u001b[0m\u001b[0m\n",
      "\u001b[1;31mNameError\u001b[0m: name 'net' is not defined"
     ]
    }
   ],
   "source": [
    "import torch.optim as optim\n",
    "\n",
    "#create your optimizer\n",
    "optimizer=optim.SGD(net.parameters(), lr=0.01)\n",
    "\n",
    "#in your training loop:\n",
    "optimizer.zero_grad()\n",
    "output=net(input)\n",
    "loss=criterion(output, target)\n",
    "loss.backward()\n",
    "optimizer.step()"
   ]
  },
  {
   "cell_type": "code",
   "execution_count": 66,
   "id": "5f3aa632",
   "metadata": {},
   "outputs": [],
   "source": [
    "def train(X, y, model, loss_fn, optimizer, max_iter=5000, log=1000):\n",
    "    for i in range(max_iter):\n",
    "        Y_pred=model(X)\n",
    "        \n",
    "        #손실을 계산하고\n",
    "        loss=loss_fn(Y_pred.view(-1),y)\n",
    "        \n",
    "        #필요하면 출력\n",
    "        if i % log ==log-1:\n",
    "            print(\"Iter: {:5d}, Loss: {:f}\".format(i+1, loss.item()))\n",
    "            \n",
    "        #경사도벡터를 초기화시키고\n",
    "        optimizer.zero_grad()\n",
    "        \n",
    "        #역전파 한 후에\n",
    "        loss.backward()\n",
    "        \n",
    "        #Optimizer의 step 함수를 호출하면 매개변수가 갱신합니다.\n",
    "        optimizer.step()"
   ]
  },
  {
   "cell_type": "code",
   "execution_count": 67,
   "id": "eb0e1867",
   "metadata": {},
   "outputs": [],
   "source": [
    "import torch\n",
    "torch.manual_seed(0)\n",
    "\n",
    "#데이터를 다시 초기화합니다.\n",
    "X_train=D['X_train']\n",
    "Y_train=D['Y_train']\n",
    "\n",
    "X_train_torch=torch.Tensor(X_train.reshape(-1,1))\n",
    "Y_train_torch=torch.Tensor(Y_train)\n",
    "\n",
    "#입력 특성 차원 1차원, 히든레이어 3차원, 출력 1차원으로 구성합니다.\n",
    "D_in, H, D_out = 1,3,1\n",
    "\n",
    "#torch.nn.Sequential을 사용하여 신경망을 구성합니다.\n",
    "model=torch.nn.Sequential(torch.nn.Linear(D_in,H), torch.nn.Sigmoid(), torch.nn.Linear(H, D_out))\n",
    "loss_fn=torch.nn.MSELoss(reduction='sum')\n",
    "optimizer=torch.optim.Adam(model.parameters(), lr=0.15)\n"
   ]
  },
  {
   "cell_type": "code",
   "execution_count": 68,
   "id": "b91a9ac1",
   "metadata": {},
   "outputs": [
    {
     "name": "stdout",
     "output_type": "stream",
     "text": [
      "Iter:  1000, Loss: 0.011247\n",
      "Iter:  2000, Loss: 0.009089\n",
      "Iter:  3000, Loss: 0.008652\n",
      "Iter:  4000, Loss: 0.008620\n",
      "Iter:  5000, Loss: 0.008625\n"
     ]
    }
   ],
   "source": [
    "train(X_train_torch, Y_train_torch, model, loss_fn, optimizer)"
   ]
  },
  {
   "cell_type": "code",
   "execution_count": 70,
   "id": "93407ef0",
   "metadata": {},
   "outputs": [
    {
     "data": {
      "image/png": "[encoded data removed]",
      "text/plain": [
       "<Figure size 720x504 with 1 Axes>"
      ]
     },
     "metadata": {
      "needs_background": "light"
     },
     "output_type": "display_data"
    }
   ],
   "source": [
    "import matplotlib.pyplot as plt\n",
    "\n",
    "X=torch.Tensor(x.reshape(-1,1))\n",
    "Y_pred=model(X)\n",
    "\n",
    "fig=plt.figure(figsize=(10,7))\n",
    "ax=fig.add_subplot(1,1,1)\n",
    "ax.xaxis.set_tick_params(labelsize=18)\n",
    "ax.yaxis.set_tick_params(labelsize=18)\n",
    "\n",
    "ax.plot(x, t, '--', color='k', label=\"True\")\n",
    "ax.plot(X_train, Y_train, 'o', markersize=8, color='k')\n",
    "plt.plot(x, Y_pred.detach().numpy(), color='k', label=\"NN(1-3-1) non-linear\")\n",
    "\n",
    "ax.legend(fontsize=20)\n",
    "\n",
    "ax.set_xlabel('$x$', fontsize=20)\n",
    "ax.set_ylabel('$y$', fontsize=20)\n",
    "\n",
    "plt.show()"
   ]
  },
  {
   "cell_type": "code",
   "execution_count": 76,
   "id": "0b123c4c",
   "metadata": {},
   "outputs": [
    {
     "name": "stdout",
     "output_type": "stream",
     "text": [
      "Iter:  1000, Loss: 7.770417\n",
      "Iter:  2000, Loss: 7.770416\n",
      "Iter:  3000, Loss: 7.770416\n",
      "Iter:  4000, Loss: 7.794822\n",
      "Iter:  5000, Loss: 7.770416\n"
     ]
    }
   ],
   "source": [
    "torch.manual_seed(0)\n",
    "\n",
    "model=torch.nn.Sequential(\n",
    "    torch.nn.Linear(D_in,H),\n",
    "    torch.nn.Linear(H,D_out)\n",
    ")\n",
    "\n",
    "loss_fn=torch.nn.MSELoss(reduction='sum')\n",
    "optimizer=torch.optim.Adam(model.parameters(), lr=0.15)\n",
    "\n",
    "train(X_train_torch,Y_train_torch, model, loss_fn, optimizer)"
   ]
  },
  {
   "cell_type": "code",
   "execution_count": 80,
   "id": "30c3e232",
   "metadata": {},
   "outputs": [
    {
     "name": "stdout",
     "output_type": "stream",
     "text": [
      "Iter:  5000, Loss: 7.155282\n",
      "Iter: 10000, Loss: 5.722231\n",
      "Iter: 15000, Loss: 3.870878\n",
      "Iter: 20000, Loss: 3.667485\n",
      "Iter: 25000, Loss: 3.431200\n",
      "Iter: 30000, Loss: 3.099442\n",
      "Iter: 35000, Loss: 2.657072\n",
      "Iter: 40000, Loss: 2.158529\n",
      "Iter: 45000, Loss: 1.710842\n",
      "Iter: 50000, Loss: 1.337570\n",
      "Iter: 55000, Loss: 1.037892\n",
      "Iter: 60000, Loss: 0.805715\n",
      "Iter: 65000, Loss: 0.624038\n",
      "Iter: 70000, Loss: 0.473470\n"
     ]
    }
   ],
   "source": [
    "torch.manual_seed(0)\n",
    "\n",
    "P=6\n",
    "X_poly=np.array([X_train**i for i in range(0, P+1)]).T\n",
    "X_train_torch=torch.Tensor(X_poly)\n",
    "Y_trian_torch=torch.Tensor(Y_train)\n",
    "\n",
    "D_in,H,D_out=P+1, 3, 1\n",
    "\n",
    "model=torch.nn.Sequential(\n",
    "        torch.nn.Linear(D_in,H),\n",
    "        torch.nn.Linear(H,D_out)\n",
    ")\n",
    "\n",
    "loss_fn=torch.nn.MSELoss(reduction='sum')\n",
    "optimizer=torch.optim.Adam(model.parameters(), lr=0.01, betas=(0.999,0.999))\n",
    "\n",
    "train(X_train_torch, Y_train_torch, model, loss_fn, optimizer, max_iter=70000, log=5000)\n"
   ]
  },
  {
   "cell_type": "code",
   "execution_count": null,
   "id": "51a5c5be",
   "metadata": {},
   "outputs": [],
   "source": [
    "|"
   ]
  }
 ],
 "metadata": {
  "kernelspec": {
   "display_name": "Python 3 (ipykernel)",
   "language": "python",
   "name": "python3"
  },
  "language_info": {
   "codemirror_mode": {
    "name": "ipython",
    "version": 3
   },
   "file_extension": ".py",
   "mimetype": "text/x-python",
   "name": "python",
   "nbconvert_exporter": "python",
   "pygments_lexer": "ipython3",
   "version": "3.9.6"
  }
 },
 "nbformat": 4,
 "nbformat_minor": 5
}
