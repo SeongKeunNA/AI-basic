{
 "cells": [
  {
   "cell_type": "code",
   "execution_count": 1,
   "id": "848041b4",
   "metadata": {},
   "outputs": [],
   "source": [
    "import sympy\n",
    "\n",
    "x=sympy.Symbol('x')\n",
    "f=(x**2+2*x)*sympy.log(x)\n",
    "df=sympy.diff(f,x)\n"
   ]
  },
  {
   "cell_type": "code",
   "execution_count": 2,
   "id": "5b0e0e07",
   "metadata": {},
   "outputs": [
    {
     "data": {
      "text/latex": [
       "$\\displaystyle \\left(2 x + 2\\right) \\log{\\left(x \\right)} + \\frac{x^{2} + 2 x}{x}$"
      ],
      "text/plain": [
       "(2*x + 2)*log(x) + (x**2 + 2*x)/x"
      ]
     },
     "execution_count": 2,
     "metadata": {},
     "output_type": "execute_result"
    }
   ],
   "source": [
    "df"
   ]
  },
  {
   "cell_type": "code",
   "execution_count": 3,
   "id": "a41f4ad5",
   "metadata": {},
   "outputs": [
    {
     "data": {
      "text/latex": [
       "$\\displaystyle x + 2 \\left(x + 1\\right) \\log{\\left(x \\right)} + 2$"
      ],
      "text/plain": [
       "x + 2*(x + 1)*log(x) + 2"
      ]
     },
     "execution_count": 3,
     "metadata": {},
     "output_type": "execute_result"
    }
   ],
   "source": [
    "sympy.simplify(df)"
   ]
  },
  {
   "cell_type": "code",
   "execution_count": 5,
   "id": "ff67ab75",
   "metadata": {},
   "outputs": [
    {
     "name": "stdout",
     "output_type": "stream",
     "text": [
      "0.0\n",
      "3.0\n"
     ]
    }
   ],
   "source": [
    "import  numpy as np\n",
    "\n",
    "f= lambda x:(x**2+2*x)*np.log(x)\n",
    "df= lambda x:2*(x+1)*np.log(x)+(x+2)\n",
    "\n",
    "print(f(1))\n",
    "print(df(1))"
   ]
  },
  {
   "cell_type": "code",
   "execution_count": 13,
   "id": "11e1968d",
   "metadata": {},
   "outputs": [],
   "source": [
    "def numer_deriv(f, x, h=0.001, method=\"center\"):\n",
    "    if type(x) in (float, int):\n",
    "        grad=[0.0]\n",
    "        x_=[x]\n",
    "        var_type='scalar'\n",
    "    else:\n",
    "        grad=np.zeros(x.shape)\n",
    "        x_=x.copy().astype('float32')\n",
    "        var_type='vector'\n",
    "        \n",
    "    for  i,xi in enumerate(x_):\n",
    "        original_value=x_[i]\n",
    "        \n",
    "        if method=='forward':\n",
    "            x_[i]=original_value+h\n",
    "        else:\n",
    "            x_[i]=original_value+(h/2)\n",
    "            \n",
    "        if var_type=='scalar':\n",
    "            gradplus=f(x_[i])\n",
    "        else:\n",
    "            gradplus=f(x_)\n",
    "        \n",
    "        if method=='forward':\n",
    "            x_[i]=original_value\n",
    "        else:\n",
    "            x_[i]=original_value-(h/2)\n",
    "            \n",
    "        if var_type=='scalar':\n",
    "            gradminus=f(x_[i])\n",
    "        else:\n",
    "            gradminus=f(x_)\n",
    "        \n",
    "        grad[i]=(gradplus-gradminus)/h\n",
    "        \n",
    "    if var_type=='scalar':\n",
    "        return grad[0]\n",
    "    else:\n",
    "        return grad\n",
    "        "
   ]
  },
  {
   "cell_type": "code",
   "execution_count": 14,
   "id": "42e92f4f",
   "metadata": {},
   "outputs": [
    {
     "data": {
      "text/plain": [
       "2.999999999999666"
      ]
     },
     "execution_count": 14,
     "metadata": {},
     "output_type": "execute_result"
    }
   ],
   "source": [
    "numer_deriv(f,1)"
   ]
  },
  {
   "cell_type": "code",
   "execution_count": 15,
   "id": "f16b185b",
   "metadata": {},
   "outputs": [
    {
     "data": {
      "text/plain": [
       "<function print>"
      ]
     },
     "execution_count": 15,
     "metadata": {},
     "output_type": "execute_result"
    }
   ],
   "source": [
    "print"
   ]
  },
  {
   "cell_type": "code",
   "execution_count": 16,
   "id": "f3ef21aa",
   "metadata": {},
   "outputs": [
    {
     "name": "stdout",
     "output_type": "stream",
     "text": [
      "4.257383635135726\n",
      "2.9997299032915508\n"
     ]
    }
   ],
   "source": [
    "print(numer_deriv(f,1,h=0.5, method='forward'))\n",
    "print(numer_deriv(f,1,h=0.5, method='center'))"
   ]
  },
  {
   "cell_type": "code",
   "execution_count": 17,
   "id": "c022fe59",
   "metadata": {},
   "outputs": [
    {
     "data": {
      "text/plain": [
       "array([2.77255299, 1.49889143])"
      ]
     },
     "execution_count": 17,
     "metadata": {},
     "output_type": "execute_result"
    }
   ],
   "source": [
    "f_xy=lambda x: (x[0]**2+ 2*x[0])*np.log(x[1])\n",
    "numer_deriv(f_xy, np.array([1,2]))"
   ]
  },
  {
   "cell_type": "code",
   "execution_count": 19,
   "id": "8c840a30",
   "metadata": {},
   "outputs": [
    {
     "name": "stdout",
     "output_type": "stream",
     "text": [
      "(2*x + 2)*log(y)\n",
      "(x**2 + 2*x)/y\n"
     ]
    }
   ],
   "source": [
    "x=sympy.Symbol('x')\n",
    "y=sympy.Symbol('y')\n",
    "f_xy_sympy=(x**2+2*x)*sympy.log(y)\n",
    "df_xy_x=sympy.diff(f_xy_sympy, x)\n",
    "df_xy_y=sympy.diff(f_xy_sympy, y)\n",
    "\n",
    "print(df_xy_x)\n",
    "print(df_xy_y)"
   ]
  },
  {
   "cell_type": "code",
   "execution_count": 21,
   "id": "1188f327",
   "metadata": {},
   "outputs": [
    {
     "name": "stdout",
     "output_type": "stream",
     "text": [
      "2.7726\n",
      "1.5000\n"
     ]
    }
   ],
   "source": [
    "print(\"{:.4f}\".format(df_xy_x.evalf(subs={x:1.0, y:2.0})))\n",
    "print(\"{:.4f}\".format(df_xy_y.evalf(subs={x:1.0, y:2.0})))"
   ]
  },
  {
   "cell_type": "code",
   "execution_count": null,
   "id": "015f651c",
   "metadata": {},
   "outputs": [],
   "source": []
  }
 ],
 "metadata": {
  "kernelspec": {
   "display_name": "Python 3 (ipykernel)",
   "language": "python",
   "name": "python3"
  },
  "language_info": {
   "codemirror_mode": {
    "name": "ipython",
    "version": 3
   },
   "file_extension": ".py",
   "mimetype": "text/x-python",
   "name": "python",
   "nbconvert_exporter": "python",
   "pygments_lexer": "ipython3",
   "version": "3.9.6"
  }
 },
 "nbformat": 4,
 "nbformat_minor": 5
}
