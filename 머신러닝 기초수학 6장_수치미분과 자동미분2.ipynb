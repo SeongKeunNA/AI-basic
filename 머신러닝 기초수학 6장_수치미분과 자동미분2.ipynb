{
 "cells": [
  {
   "cell_type": "code",
   "execution_count": 2,
   "id": "3f700a22",
   "metadata": {},
   "outputs": [
    {
     "name": "stdout",
     "output_type": "stream",
     "text": [
      "[[0.5488135  0.71518937 0.60276338]\n",
      " [0.54488318 0.4236548  0.64589411]] float64\n",
      "tensor([[0.5488, 0.7152, 0.6028],\n",
      "        [0.5449, 0.4237, 0.6459]], dtype=torch.float64) torch.float64 False\n",
      "tensor([[0.5488, 0.7152, 0.6028],\n",
      "        [0.5449, 0.4237, 0.6459]], dtype=torch.float64) torch.float64 False\n",
      "tensor([[0.5488, 0.7152, 0.6028],\n",
      "        [0.5449, 0.4237, 0.6459]]) torch.float32 False\n",
      "tensor([[0.5488, 0.7152, 0.6028],\n",
      "        [0.5449, 0.4237, 0.6459]], dtype=torch.float64) torch.float64 False\n"
     ]
    }
   ],
   "source": [
    "import numpy as np\n",
    "import torch\n",
    "\n",
    "np.random.seed(0)\n",
    "x=np.random.rand(6).reshape(2,3)\n",
    "\n",
    "x_tensor=torch.tensor(x)\n",
    "x_from_numpy=torch.from_numpy(x)\n",
    "x_Tensor=torch.Tensor(x)\n",
    "x_as_tensor=torch.as_tensor(x)\n",
    "\n",
    "print(x, x.dtype)\n",
    "\n",
    "print(x_tensor, x_tensor.dtype, x_tensor.requires_grad)\n",
    "\n",
    "print(x_from_numpy, x_from_numpy.dtype, x_from_numpy.requires_grad)\n",
    "\n",
    "print(x_Tensor, x_Tensor.dtype, x_Tensor.requires_grad)\n",
    "\n",
    "print(x_as_tensor, x_as_tensor.dtype, x_as_tensor.requires_grad)\n",
    "\n"
   ]
  },
  {
   "cell_type": "code",
   "execution_count": 3,
   "id": "6d1081c1",
   "metadata": {},
   "outputs": [
    {
     "name": "stdout",
     "output_type": "stream",
     "text": [
      "[[100.           0.71518937   0.60276338]\n",
      " [  0.54488318   0.4236548    0.64589411]] float64\n"
     ]
    }
   ],
   "source": [
    "x[0,0]=100\n",
    "\n",
    "print(x, x.dtype)"
   ]
  },
  {
   "cell_type": "code",
   "execution_count": 4,
   "id": "d7de8b19",
   "metadata": {},
   "outputs": [
    {
     "name": "stdout",
     "output_type": "stream",
     "text": [
      "tensor([[0.5488, 0.7152, 0.6028],\n",
      "        [0.5449, 0.4237, 0.6459]], dtype=torch.float64) torch.float64 False\n"
     ]
    }
   ],
   "source": [
    "print(x_tensor, x_tensor.dtype, x_tensor.requires_grad)"
   ]
  },
  {
   "cell_type": "code",
   "execution_count": 6,
   "id": "20b28839",
   "metadata": {},
   "outputs": [
    {
     "name": "stdout",
     "output_type": "stream",
     "text": [
      "tensor([[0.5488, 0.7152, 0.6028],\n",
      "        [0.5449, 0.4237, 0.6459]]) torch.float32 False\n"
     ]
    }
   ],
   "source": [
    "print(x_Tensor, x_Tensor.dtype, x_Tensor.requires_grad)"
   ]
  },
  {
   "cell_type": "code",
   "execution_count": 7,
   "id": "4209471c",
   "metadata": {},
   "outputs": [
    {
     "name": "stdout",
     "output_type": "stream",
     "text": [
      "tensor([[100.0000,   0.7152,   0.6028],\n",
      "        [  0.5449,   0.4237,   0.6459]], dtype=torch.float64) torch.float64 False\n"
     ]
    }
   ],
   "source": [
    "print(x_from_numpy, x_from_numpy.dtype, x_from_numpy.requires_grad)"
   ]
  },
  {
   "cell_type": "code",
   "execution_count": 8,
   "id": "b97f2072",
   "metadata": {},
   "outputs": [
    {
     "name": "stdout",
     "output_type": "stream",
     "text": [
      "tensor([[100.0000,   0.7152,   0.6028],\n",
      "        [  0.5449,   0.4237,   0.6459]], dtype=torch.float64) torch.float64 False\n"
     ]
    }
   ],
   "source": [
    "print(x_as_tensor, x_as_tensor.dtype, x_as_tensor.requires_grad)"
   ]
  },
  {
   "cell_type": "code",
   "execution_count": 9,
   "id": "7ca69e32",
   "metadata": {},
   "outputs": [
    {
     "name": "stdout",
     "output_type": "stream",
     "text": [
      "tensor([[100.0000,   0.7152,   0.6028],\n",
      "        [  0.5449,   0.4237,   0.6459]], dtype=torch.float64,\n",
      "       requires_grad=True) torch.float64 True\n"
     ]
    }
   ],
   "source": [
    "x_tensor_grad=torch.tensor(x, requires_grad=True)\n",
    "\n",
    "print(x_tensor_grad, x_tensor_grad.dtype, x_tensor_grad.requires_grad)\n",
    "                          "
   ]
  },
  {
   "cell_type": "code",
   "execution_count": 10,
   "id": "18f2266c",
   "metadata": {},
   "outputs": [
    {
     "name": "stdout",
     "output_type": "stream",
     "text": [
      "tensor([1.], requires_grad=True)\n"
     ]
    }
   ],
   "source": [
    "x=torch.tensor([1.0],requires_grad=True)\n",
    "f= (x**2+2*x)*torch.log(x)\n",
    "\n",
    "print(x)\n"
   ]
  },
  {
   "cell_type": "code",
   "execution_count": 11,
   "id": "ad2727dc",
   "metadata": {},
   "outputs": [
    {
     "name": "stdout",
     "output_type": "stream",
     "text": [
      "tensor([0.], grad_fn=<MulBackward0>)\n"
     ]
    }
   ],
   "source": [
    "print(f)"
   ]
  },
  {
   "cell_type": "code",
   "execution_count": 12,
   "id": "fc7897c7",
   "metadata": {},
   "outputs": [
    {
     "data": {
      "text/plain": [
       "<function print>"
      ]
     },
     "execution_count": 12,
     "metadata": {},
     "output_type": "execute_result"
    }
   ],
   "source": [
    "print"
   ]
  },
  {
   "cell_type": "code",
   "execution_count": 13,
   "id": "880edc7d",
   "metadata": {},
   "outputs": [
    {
     "name": "stdout",
     "output_type": "stream",
     "text": [
      "None\n"
     ]
    }
   ],
   "source": [
    "print(x.grad)"
   ]
  },
  {
   "cell_type": "code",
   "execution_count": 14,
   "id": "2bcafb25",
   "metadata": {},
   "outputs": [
    {
     "name": "stdout",
     "output_type": "stream",
     "text": [
      "tensor([3.])\n"
     ]
    }
   ],
   "source": [
    "torch.autograd.backward(f, retain_graph=True)\n",
    "print(x.grad)"
   ]
  },
  {
   "cell_type": "code",
   "execution_count": 16,
   "id": "f32d2993",
   "metadata": {},
   "outputs": [
    {
     "name": "stdout",
     "output_type": "stream",
     "text": [
      "(tensor([3.]),)\n"
     ]
    }
   ],
   "source": [
    "df=torch.autograd.grad(f,x,retain_graph=True)\n",
    "print(df)"
   ]
  },
  {
   "cell_type": "code",
   "execution_count": 18,
   "id": "b0241d4d",
   "metadata": {},
   "outputs": [
    {
     "name": "stdout",
     "output_type": "stream",
     "text": [
      "(tensor([3.]), tensor([3.]))\n"
     ]
    }
   ],
   "source": [
    "df=torch.autograd.grad(f, (x,x), retain_graph=True)\n",
    "print(df)"
   ]
  },
  {
   "cell_type": "code",
   "execution_count": 20,
   "id": "9318614d",
   "metadata": {},
   "outputs": [
    {
     "name": "stdout",
     "output_type": "stream",
     "text": [
      "tensor([2.7726])\n",
      "tensor([1.5000])\n",
      "(tensor([2.7726]), tensor([1.5000]))\n"
     ]
    }
   ],
   "source": [
    "x=torch.tensor([1.0], requires_grad=True)\n",
    "y=torch.tensor([2.0], requires_grad=True)\n",
    "f_xy=(x**2+2*x)*torch.log(y)\n",
    "\n",
    "torch.autograd.backward(f_xy,retain_graph=True)\n",
    "print(x.grad)\n",
    "print(y.grad)\n",
    "df=torch.autograd.grad(f_xy,(x,y), retain_graph=True)\n",
    "print(df)"
   ]
  },
  {
   "cell_type": "code",
   "execution_count": null,
   "id": "3c1010be",
   "metadata": {},
   "outputs": [],
   "source": []
  }
 ],
 "metadata": {
  "kernelspec": {
   "display_name": "Python 3 (ipykernel)",
   "language": "python",
   "name": "python3"
  },
  "language_info": {
   "codemirror_mode": {
    "name": "ipython",
    "version": 3
   },
   "file_extension": ".py",
   "mimetype": "text/x-python",
   "name": "python",
   "nbconvert_exporter": "python",
   "pygments_lexer": "ipython3",
   "version": "3.9.6"
  }
 },
 "nbformat": 4,
 "nbformat_minor": 5
}
