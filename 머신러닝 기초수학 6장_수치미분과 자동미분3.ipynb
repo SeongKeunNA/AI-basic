{
 "cells": [
  {
   "cell_type": "code",
   "execution_count": 1,
   "id": "dd73e799",
   "metadata": {},
   "outputs": [
    {
     "name": "stdout",
     "output_type": "stream",
     "text": [
      "dx=3, dy=2\n"
     ]
    }
   ],
   "source": [
    "def times(x,y):\n",
    "    return x*y, (x,y)\n",
    "\n",
    "def times_deriv(cache, dout=1):\n",
    "    return cache[1]*dout, cache[0]*dout\n",
    "\n",
    "TIMES={'f':times, 'df': times_deriv}\n",
    "\n",
    "v, cache=TIMES['f'](2,3)\n",
    "dx, dy= TIMES['df'](cache)\n",
    "\n",
    "print(\"dx={}, dy={}\".format(dx,dy))\n"
   ]
  },
  {
   "cell_type": "code",
   "execution_count": 3,
   "id": "399c5019",
   "metadata": {},
   "outputs": [],
   "source": [
    "def add(x,y):\n",
    "    return x+y,(x,y)\n",
    "\n",
    "def add_deriv(cache,dout=1):\n",
    "    return dout, dout\n",
    "\n",
    "ADD={'f':add, 'df':add_deriv}\n",
    "     \n",
    "def log(x):\n",
    "     return np.log(x),x\n",
    "\n",
    "def log_deriv(cache, dout=1):\n",
    "     return (1/cache) * dout\n",
    "     \n",
    "LOG={'f':log, 'df':log_deriv}\n",
    "    \n",
    "    "
   ]
  },
  {
   "cell_type": "code",
   "execution_count": 6,
   "id": "1cf556c2",
   "metadata": {},
   "outputs": [
    {
     "name": "stdout",
     "output_type": "stream",
     "text": [
      "backward pass dx=5.545177, dy=3.000000\n"
     ]
    }
   ],
   "source": [
    "import numpy as np\n",
    "x=1.; y=2.\n",
    "\n",
    "a, cache_a=TIMES['f'](x,x)\n",
    "b, cache_b=TIMES['f'](2,x)\n",
    "c, cache_c=ADD['f'](a,b)\n",
    "d, cache_d=LOG['f'](y)\n",
    "z, cache_z=TIMES['f'](c,d)\n",
    "\n",
    "dx=dy=0.\n",
    "\n",
    "dc, dd= TIMES['df'](cache_z,2)\n",
    "dy= LOG['df'](cache_d, dd)\n",
    "da,db= ADD['df'](cache_c,dc)\n",
    "_,dx_=TIMES['df'](cache_b,db);dx+=dx_;\n",
    "dx_,dx__=TIMES['df'](cache_a,da);dx+=dx_+dx__;\n",
    "\n",
    "print(\"backward pass dx={:.6f}, dy={:.6f}\".format(dx,dy))\n"
   ]
  },
  {
   "cell_type": "code",
   "execution_count": 10,
   "id": "4ca10ba3",
   "metadata": {},
   "outputs": [
    {
     "name": "stdout",
     "output_type": "stream",
     "text": [
      "(tensor([5.5452]), tensor([3.]))\n"
     ]
    }
   ],
   "source": [
    "import torch\n",
    "\n",
    "x=torch.tensor([1.],requires_grad=True)\n",
    "y=torch.tensor([2.],requires_grad=True)\n",
    "z=(x**2+2*x)*torch.log(y)\n",
    "dz=torch.autograd.grad(z,(x,y),grad_outputs=torch.tensor([2.]),retain_graph=True)\n",
    "print(dz)"
   ]
  },
  {
   "cell_type": "code",
   "execution_count": null,
   "id": "b1c5f4eb",
   "metadata": {},
   "outputs": [],
   "source": []
  }
 ],
 "metadata": {
  "kernelspec": {
   "display_name": "Python 3 (ipykernel)",
   "language": "python",
   "name": "python3"
  },
  "language_info": {
   "codemirror_mode": {
    "name": "ipython",
    "version": 3
   },
   "file_extension": ".py",
   "mimetype": "text/x-python",
   "name": "python",
   "nbconvert_exporter": "python",
   "pygments_lexer": "ipython3",
   "version": "3.9.6"
  }
 },
 "nbformat": 4,
 "nbformat_minor": 5
}
