{
 "cells": [
  {
   "cell_type": "code",
   "execution_count": 45,
   "id": "f05e8bff",
   "metadata": {},
   "outputs": [
    {
     "ename": "TypeError",
     "evalue": "Field elements must be 2- or 3-tuples, got 'array([[12],\n       [24],\n       [18],\n       [ 6]])'",
     "output_type": "error",
     "traceback": [
      "\u001b[1;31m---------------------------------------------------------------------------\u001b[0m",
      "\u001b[1;31mTypeError\u001b[0m                                 Traceback (most recent call last)",
      "\u001b[1;32m<ipython-input-45-5788189c4b3b>\u001b[0m in \u001b[0;36m<module>\u001b[1;34m\u001b[0m\n\u001b[0;32m      4\u001b[0m \u001b[1;33m\u001b[0m\u001b[0m\n\u001b[0;32m      5\u001b[0m \u001b[0mC\u001b[0m\u001b[1;33m=\u001b[0m\u001b[0mnp\u001b[0m\u001b[1;33m.\u001b[0m\u001b[0mdot\u001b[0m\u001b[1;33m(\u001b[0m\u001b[0mA\u001b[0m\u001b[1;33m,\u001b[0m\u001b[0mB\u001b[0m\u001b[1;33m)\u001b[0m\u001b[1;33m\u001b[0m\u001b[1;33m\u001b[0m\u001b[0m\n\u001b[1;32m----> 6\u001b[1;33m \u001b[0mC_\u001b[0m\u001b[1;33m=\u001b[0m\u001b[0mnp\u001b[0m\u001b[1;33m.\u001b[0m\u001b[0marray\u001b[0m\u001b[1;33m(\u001b[0m\u001b[1;33m[\u001b[0m\u001b[0mA\u001b[0m\u001b[1;33m[\u001b[0m\u001b[1;33m:\u001b[0m\u001b[1;33m,\u001b[0m\u001b[1;33m[\u001b[0m\u001b[0mj\u001b[0m\u001b[1;33m]\u001b[0m\u001b[1;33m]\u001b[0m\u001b[1;33m*\u001b[0m\u001b[0mB\u001b[0m\u001b[1;33m[\u001b[0m\u001b[0mj\u001b[0m\u001b[1;33m,\u001b[0m\u001b[1;36m0\u001b[0m\u001b[1;33m]\u001b[0m \u001b[1;32mfor\u001b[0m \u001b[0mj\u001b[0m \u001b[1;32min\u001b[0m \u001b[0mrange\u001b[0m\u001b[1;33m(\u001b[0m\u001b[0mA\u001b[0m\u001b[1;33m.\u001b[0m\u001b[0mshape\u001b[0m\u001b[1;33m[\u001b[0m\u001b[1;36m1\u001b[0m\u001b[1;33m]\u001b[0m\u001b[1;33m)\u001b[0m\u001b[1;33m]\u001b[0m\u001b[1;33m,\u001b[0m \u001b[1;33m[\u001b[0m\u001b[0mA\u001b[0m\u001b[1;33m[\u001b[0m\u001b[1;33m:\u001b[0m\u001b[1;33m,\u001b[0m\u001b[1;33m[\u001b[0m\u001b[0mj\u001b[0m\u001b[1;33m]\u001b[0m\u001b[1;33m]\u001b[0m\u001b[1;33m*\u001b[0m\u001b[0mB\u001b[0m\u001b[1;33m[\u001b[0m\u001b[0mj\u001b[0m\u001b[1;33m,\u001b[0m\u001b[1;36m1\u001b[0m\u001b[1;33m]\u001b[0m \u001b[1;32mfor\u001b[0m \u001b[0mj\u001b[0m \u001b[1;32min\u001b[0m \u001b[0mrange\u001b[0m\u001b[1;33m(\u001b[0m\u001b[0mA\u001b[0m\u001b[1;33m.\u001b[0m\u001b[0mshape\u001b[0m\u001b[1;33m[\u001b[0m\u001b[1;36m1\u001b[0m\u001b[1;33m]\u001b[0m\u001b[1;33m)\u001b[0m\u001b[1;33m]\u001b[0m\u001b[1;33m)\u001b[0m\u001b[1;33m\u001b[0m\u001b[1;33m\u001b[0m\u001b[0m\n\u001b[0m\u001b[0;32m      7\u001b[0m \u001b[0mC_\u001b[0m\u001b[1;33m\u001b[0m\u001b[1;33m\u001b[0m\u001b[0m\n",
      "\u001b[1;31mTypeError\u001b[0m: Field elements must be 2- or 3-tuples, got 'array([[12],\n       [24],\n       [18],\n       [ 6]])'"
     ]
    }
   ],
   "source": [
    "import numpy as np\n",
    "A=np.random.randint(0,9,12).reshape(4,3)\n",
    "B=np.random.randint(0,9,6).reshape(3,2)\n",
    "\n",
    "C=np.dot(A,B)\n",
    "C_=np.array([A[:,[j]]*B[j,0] for j in range(A.shape[1])], [A[:,[j]]*B[j,1] for j in range(A.shape[1])])\n",
    "C_\n"
   ]
  },
  {
   "cell_type": "code",
   "execution_count": 28,
   "id": "bd4def97",
   "metadata": {},
   "outputs": [
    {
     "data": {
      "text/plain": [
       "array([[[35],\n",
       "        [30],\n",
       "        [25],\n",
       "        [ 5]],\n",
       "\n",
       "       [[28],\n",
       "        [12],\n",
       "        [16],\n",
       "        [12]],\n",
       "\n",
       "       [[36],\n",
       "        [12],\n",
       "        [30],\n",
       "        [12]]])"
      ]
     },
     "execution_count": 28,
     "metadata": {},
     "output_type": "execute_result"
    }
   ],
   "source": [
    "C2\n"
   ]
  },
  {
   "cell_type": "code",
   "execution_count": 41,
   "id": "fb9e0521",
   "metadata": {},
   "outputs": [],
   "source": [
    "C11=C1.sum(axis=0)"
   ]
  },
  {
   "cell_type": "code",
   "execution_count": 32,
   "id": "f854d5d9",
   "metadata": {},
   "outputs": [],
   "source": [
    "C22=C2.sum(axis=0)"
   ]
  },
  {
   "cell_type": "code",
   "execution_count": 40,
   "id": "86e9fd26",
   "metadata": {},
   "outputs": [
    {
     "ename": "SyntaxError",
     "evalue": "invalid syntax (<ipython-input-40-19af2d7ea5a1>, line 1)",
     "output_type": "error",
     "traceback": [
      "\u001b[1;36m  File \u001b[1;32m\"<ipython-input-40-19af2d7ea5a1>\"\u001b[1;36m, line \u001b[1;32m1\u001b[0m\n\u001b[1;33m    C_final=np.array([C11[i,:]for i in range(C11.shape[0]),C22[k,:] for k in range(C22.shape[0])])\u001b[0m\n\u001b[1;37m                                                          ^\u001b[0m\n\u001b[1;31mSyntaxError\u001b[0m\u001b[1;31m:\u001b[0m invalid syntax\n"
     ]
    }
   ],
   "source": [
    "C_final=np.array([C11[i,:]for i in range(C11.shape[0]),C22[k,:] for k in range(C22.shape[0])])"
   ]
  },
  {
   "cell_type": "code",
   "execution_count": 39,
   "id": "ec4d6587",
   "metadata": {},
   "outputs": [
    {
     "data": {
      "text/plain": [
       "array([[[113],\n",
       "        [ 54],\n",
       "        [ 77],\n",
       "        [ 39]],\n",
       "\n",
       "       [[ 99],\n",
       "        [ 54],\n",
       "        [ 71],\n",
       "        [ 29]]])"
      ]
     },
     "execution_count": 39,
     "metadata": {},
     "output_type": "execute_result"
    }
   ],
   "source": [
    "C_final"
   ]
  },
  {
   "cell_type": "code",
   "execution_count": 35,
   "id": "c796f4d8",
   "metadata": {},
   "outputs": [
    {
     "data": {
      "text/plain": [
       "array([[113,  99],\n",
       "       [ 54,  54],\n",
       "       [ 77,  71],\n",
       "       [ 39,  29]])"
      ]
     },
     "execution_count": 35,
     "metadata": {},
     "output_type": "execute_result"
    }
   ],
   "source": [
    "np.dot(A,B)"
   ]
  },
  {
   "cell_type": "markdown",
   "id": "e75e91cb",
   "metadata": {},
   "source": [
    "C11"
   ]
  },
  {
   "cell_type": "code",
   "execution_count": 42,
   "id": "5f9c2841",
   "metadata": {},
   "outputs": [
    {
     "data": {
      "text/plain": [
       "array([[113],\n",
       "       [ 54],\n",
       "       [ 77],\n",
       "       [ 39]])"
      ]
     },
     "execution_count": 42,
     "metadata": {},
     "output_type": "execute_result"
    }
   ],
   "source": [
    "C11"
   ]
  },
  {
   "cell_type": "code",
   "execution_count": 46,
   "id": "57a5d5ab",
   "metadata": {},
   "outputs": [],
   "source": [
    "import numpy as np\n",
    "\n",
    "A=np.random.randint(0,10,12).reshape(4,3)\n",
    "x=np.random.randint(0,10,3)\n",
    "\n",
    "m=x.shape[0]\n",
    "y=[]\n",
    "temp=0\n",
    "for i in range(A.shape[0]):\n",
    "    for j in range(m):\n",
    "        temp+=A[i,j]*x[j]\n",
    "    y.append(temp)\n",
    "    temp=0"
   ]
  },
  {
   "cell_type": "code",
   "execution_count": 47,
   "id": "12ff9605",
   "metadata": {},
   "outputs": [],
   "source": [
    " y=A.dot(x)"
   ]
  },
  {
   "cell_type": "code",
   "execution_count": 50,
   "id": "6e271f6b",
   "metadata": {},
   "outputs": [],
   "source": [
    "import numpy as np\n",
    "\n",
    "A=np.random.randint(0,10,12).reshape(3,4)\n",
    "x=np.random.randint(0,10,3)\n",
    "\n",
    "m=x.shape[0]\n",
    "y=[]\n",
    "temp=0\n",
    "for i in range(A.shape[1]):\n",
    "    for j in range(m):\n",
    "        temp+=A[j,i]*x[j]\n",
    "    y.append(temp)\n",
    "    temp=0"
   ]
  },
  {
   "cell_type": "code",
   "execution_count": 49,
   "id": "bbfbb739",
   "metadata": {},
   "outputs": [
    {
     "data": {
      "text/plain": [
       "array([[1, 5, 4, 4],\n",
       "       [2, 9, 7, 2],\n",
       "       [2, 7, 2, 9]])"
      ]
     },
     "execution_count": 49,
     "metadata": {},
     "output_type": "execute_result"
    }
   ],
   "source": [
    "A"
   ]
  },
  {
   "cell_type": "code",
   "execution_count": 51,
   "id": "fa7c231b",
   "metadata": {},
   "outputs": [],
   "source": [
    "y=A.T.dot(x)"
   ]
  },
  {
   "cell_type": "code",
   "execution_count": 52,
   "id": "979fd93c",
   "metadata": {},
   "outputs": [
    {
     "data": {
      "text/plain": [
       "array([75, 37, 70, 64])"
      ]
     },
     "execution_count": 52,
     "metadata": {},
     "output_type": "execute_result"
    }
   ],
   "source": [
    "y"
   ]
  },
  {
   "cell_type": "code",
   "execution_count": 53,
   "id": "5675190e",
   "metadata": {},
   "outputs": [
    {
     "data": {
      "text/plain": [
       "array([[0.77132064, 0.02075195],\n",
       "       [0.63364823, 0.74880388],\n",
       "       [0.49850701, 0.22479665],\n",
       "       [0.19806286, 0.76053071],\n",
       "       [0.16911084, 0.08833981]])"
      ]
     },
     "execution_count": 53,
     "metadata": {},
     "output_type": "execute_result"
    }
   ],
   "source": [
    "import numpy as np\n",
    "\n",
    "np.random.seed(10)\n",
    "\n",
    "n,m=5,2\n",
    "\n",
    "X=np.random.rand(n,m)\n",
    "w=np.random.rand(m)\n",
    "y=np.random.rand(n)\n",
    "\n",
    "X"
   ]
  },
  {
   "cell_type": "code",
   "execution_count": 54,
   "id": "bb2795eb",
   "metadata": {},
   "outputs": [
    {
     "data": {
      "text/plain": [
       "array([0.68535982, 0.95339335])"
      ]
     },
     "execution_count": 54,
     "metadata": {},
     "output_type": "execute_result"
    }
   ],
   "source": [
    "w"
   ]
  },
  {
   "cell_type": "code",
   "execution_count": 55,
   "id": "258109dd",
   "metadata": {},
   "outputs": [
    {
     "data": {
      "text/plain": [
       "array([0.00394827, 0.51219226, 0.81262096, 0.61252607, 0.72175532])"
      ]
     },
     "execution_count": 55,
     "metadata": {},
     "output_type": "execute_result"
    }
   ],
   "source": [
    "y"
   ]
  },
  {
   "cell_type": "code",
   "execution_count": 57,
   "id": "8df32070",
   "metadata": {},
   "outputs": [],
   "source": [
    "g=np.zeros_like(w)\n",
    "\n",
    "for j in range(m):\n",
    "    for i in range(n):\n",
    "        g[j]+=(np.dot(X[i,:],w)-y[i])*X[i,j] "
   ]
  },
  {
   "cell_type": "markdown",
   "id": "387f069f",
   "metadata": {},
   "source": [
    "g=np.dot(X.T,np.dot(X,w)-y)\n",
    "g"
   ]
  },
  {
   "cell_type": "code",
   "execution_count": 58,
   "id": "dca7d998",
   "metadata": {},
   "outputs": [
    {
     "data": {
      "text/plain": [
       "array([0.65598053, 0.57259869])"
      ]
     },
     "execution_count": 58,
     "metadata": {},
     "output_type": "execute_result"
    }
   ],
   "source": [
    "g"
   ]
  },
  {
   "cell_type": "code",
   "execution_count": 59,
   "id": "c241d883",
   "metadata": {},
   "outputs": [
    {
     "name": "stdout",
     "output_type": "stream",
     "text": [
      "26.9 µs ± 574 ns per loop (mean ± std. dev. of 7 runs, 10000 loops each)\n"
     ]
    }
   ],
   "source": [
    "%%timeit\n",
    "for j in range(m):\n",
    "    for i in range(n):\n",
    "        g[j]+=(np.dot(X[i,:],w)-y[i])*X[i,j] "
   ]
  },
  {
   "cell_type": "code",
   "execution_count": 61,
   "id": "4c153dc5",
   "metadata": {},
   "outputs": [
    {
     "name": "stdout",
     "output_type": "stream",
     "text": [
      "3.61 µs ± 26.3 ns per loop (mean ± std. dev. of 7 runs, 100000 loops each)\n"
     ]
    }
   ],
   "source": [
    "%%timeit\n",
    "g=np.dot(X.T,np.dot(X,w)-y)"
   ]
  },
  {
   "cell_type": "code",
   "execution_count": null,
   "id": "3be484a1",
   "metadata": {},
   "outputs": [],
   "source": []
  }
 ],
 "metadata": {
  "kernelspec": {
   "display_name": "Python 3 (ipykernel)",
   "language": "python",
   "name": "python3"
  },
  "language_info": {
   "codemirror_mode": {
    "name": "ipython",
    "version": 3
   },
   "file_extension": ".py",
   "mimetype": "text/x-python",
   "name": "python",
   "nbconvert_exporter": "python",
   "pygments_lexer": "ipython3",
   "version": "3.9.6"
  }
 },
 "nbformat": 4,
 "nbformat_minor": 5
}
